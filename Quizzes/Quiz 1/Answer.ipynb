{
 "cells": [
  {
   "cell_type": "markdown",
   "id": "32048f4e",
   "metadata": {},
   "source": [
    "# Basic Operators"
   ]
  },
  {
   "cell_type": "code",
   "execution_count": 1,
   "id": "469dc873",
   "metadata": {},
   "outputs": [
    {
     "name": "stdout",
     "output_type": "stream",
     "text": [
      "Enter a: 2\n",
      "Enter b: 4\n",
      "Enter a basic operator (+, -, *, /, //, **): **\n",
      "a ** b: 16.0\n"
     ]
    }
   ],
   "source": [
    "a = float(input('Enter a: '))\n",
    "b = float(input('Enter b: '))\n",
    "op = input('Enter a basic operator (+, -, *, /, //, **): ')\n",
    "\n",
    "if op == '+':\n",
    "    print('a + b:', a + b)\n",
    "elif op == '-':\n",
    "    print('a - b:', a - b)\n",
    "elif op == '*':\n",
    "    print('a * b:', a * b)\n",
    "elif op == '/':\n",
    "    print('a / b:', a / b)\n",
    "elif op == '//':\n",
    "    print('a // b:', a // b)\n",
    "elif op == '**':\n",
    "    print('a ** b:', a ** b)\n",
    "else:\n",
    "    print(\"Wrong Operator!\")"
   ]
  },
  {
   "cell_type": "markdown",
   "id": "97726fe7",
   "metadata": {},
   "source": [
    "# Combination"
   ]
  },
  {
   "cell_type": "code",
   "execution_count": 2,
   "id": "a565b98c",
   "metadata": {},
   "outputs": [],
   "source": [
    "def Factorial(n):\n",
    "    if n == 0:\n",
    "        return 1\n",
    "    result = 1\n",
    "    for number in range(2, n+1):\n",
    "        result *= number\n",
    "    return result\n",
    "\n",
    "# You can do it with a recursive function:\n",
    "#def factorial(n): \n",
    "#    if (n==1 or n==0): \n",
    "#        return 1\n",
    "#    return n*factorial(n-1)"
   ]
  },
  {
   "cell_type": "code",
   "execution_count": 3,
   "id": "c5ee1542",
   "metadata": {},
   "outputs": [
    {
     "name": "stdout",
     "output_type": "stream",
     "text": [
      "Enter n: 5\n",
      "Enter m: 2\n",
      "10.0\n"
     ]
    }
   ],
   "source": [
    "n = int(input('Enter n: '))\n",
    "m = int(input('Enter m: '))\n",
    "\n",
    "print(Factorial(n)/(Factorial(m)*Factorial(n-m)))"
   ]
  },
  {
   "cell_type": "code",
   "execution_count": null,
   "id": "a3cd6f28",
   "metadata": {},
   "outputs": [],
   "source": []
  }
 ],
 "metadata": {
  "kernelspec": {
   "display_name": "Python 3 (ipykernel)",
   "language": "python",
   "name": "python3"
  },
  "language_info": {
   "codemirror_mode": {
    "name": "ipython",
    "version": 3
   },
   "file_extension": ".py",
   "mimetype": "text/x-python",
   "name": "python",
   "nbconvert_exporter": "python",
   "pygments_lexer": "ipython3",
   "version": "3.9.12"
  }
 },
 "nbformat": 4,
 "nbformat_minor": 5
}
