{
 "cells": [
  {
   "cell_type": "markdown",
   "id": "de61f74e",
   "metadata": {},
   "source": [
    "# Python Tutorial"
   ]
  },
  {
   "cell_type": "code",
   "execution_count": 1,
   "id": "c0250e3b",
   "metadata": {},
   "outputs": [
    {
     "name": "stdout",
     "output_type": "stream",
     "text": [
      "Hello World!\n",
      "Hello World!\n",
      "Hello World!\n"
     ]
    }
   ],
   "source": [
    "print(\"Hello World!\")\n",
    "print(\"Hello\", \"World!\")\n",
    "print(\"Hello \" + \"World!\")"
   ]
  },
  {
   "cell_type": "markdown",
   "id": "9a8725e7",
   "metadata": {},
   "source": [
    "## Comments"
   ]
  },
  {
   "cell_type": "code",
   "execution_count": 2,
   "id": "d9731af4",
   "metadata": {},
   "outputs": [
    {
     "data": {
      "text/plain": [
       "'\\nThis is a comment\\nwritten in\\nmore than just one line\\n'"
      ]
     },
     "execution_count": 2,
     "metadata": {},
     "output_type": "execute_result"
    }
   ],
   "source": [
    "# This is a single line comment.\n",
    "\n",
    "\"\"\"\n",
    "This is a comment\n",
    "written in\n",
    "more than just one line\n",
    "\"\"\""
   ]
  },
  {
   "cell_type": "markdown",
   "id": "66328d39",
   "metadata": {},
   "source": [
    "## Operators"
   ]
  },
  {
   "cell_type": "markdown",
   "id": "9db09ecc",
   "metadata": {},
   "source": [
    "### Arithmetic Operators"
   ]
  },
  {
   "cell_type": "code",
   "execution_count": 3,
   "id": "6bc32991",
   "metadata": {},
   "outputs": [
    {
     "name": "stdout",
     "output_type": "stream",
     "text": [
      "5 + 3 = 8\n",
      "5 - 3 = 2\n",
      "5 * 3 = 15\n",
      "2 ^ 5 = 32\n",
      "13 / 3 = 4.333333333333333\n",
      "15 // 2 = 7\n",
      "5 % 2 = 1\n"
     ]
    }
   ],
   "source": [
    "# Addition\n",
    "print('5 + 3 =', 5 + 3)\n",
    "\n",
    "# Subtraction\n",
    "print('5 - 3 =', 5 - 3)\n",
    "\n",
    "# Multiplication\n",
    "print('5 * 3 =', 5 * 3)\n",
    "\n",
    "# Exponentiation\n",
    "print('2 ^ 5 =', 2 ** 5)\n",
    "#print('2 ^ 5 =', pow(2,5))\n",
    "\n",
    "# Division\n",
    "print('13 / 3 =', 13 / 3)\n",
    "\n",
    "# Floor division (the floor division // rounds the result down to the nearest whole number)\n",
    "print('15 // 2 =', 15 // 2)\n",
    "\n",
    "# Modulus\n",
    "print('5 % 2 =', 5 % 2)"
   ]
  },
  {
   "cell_type": "markdown",
   "id": "b17a48ea",
   "metadata": {},
   "source": [
    "### Assignment Operators"
   ]
  },
  {
   "cell_type": "code",
   "execution_count": 4,
   "id": "45c32517",
   "metadata": {},
   "outputs": [
    {
     "name": "stdout",
     "output_type": "stream",
     "text": [
      "8\n",
      "5\n",
      "15\n",
      "3375\n",
      "1125.0\n",
      "375.0\n",
      "0.0\n"
     ]
    }
   ],
   "source": [
    "x = 5\n",
    "\n",
    "x += 3     # x = x + 3 = 5 + 3 = 8\n",
    "print(x)\n",
    "\n",
    "x -= 3     # x = x - 3 = 8 - 3 = 5\n",
    "print(x)\n",
    "\n",
    "x *= 3     # x = x * 3 = 5 * 3 = 15\n",
    "print(x)\n",
    "\n",
    "x **= 3    # x = x ** 3 = 15 ** 3 = 3375\n",
    "print(x)\n",
    "\n",
    "x /= 3     # x = x / 3 = 3375 / 3 = 1125.0\n",
    "print(x)\n",
    "\n",
    "x //= 3    # x = x // 3 = 1125 // 3 = 375.0\n",
    "print(x)\n",
    "\n",
    "x %= 3     # x = x % 3 = 375.0 % 3 = 0.0\n",
    "print(x)"
   ]
  },
  {
   "cell_type": "markdown",
   "id": "c31a42dc",
   "metadata": {},
   "source": [
    "### Comparison Operators"
   ]
  },
  {
   "cell_type": "code",
   "execution_count": 5,
   "id": "1ba6f9c2",
   "metadata": {},
   "outputs": [
    {
     "name": "stdout",
     "output_type": "stream",
     "text": [
      "False\n",
      "True\n",
      "True\n",
      "False\n",
      "True\n",
      "False\n"
     ]
    }
   ],
   "source": [
    "x = 5\n",
    "y = 3\n",
    "\n",
    "print(x == y)\n",
    "print(x != y)\n",
    "print(x > y)\n",
    "print(x < y)\n",
    "print(x >= y)\n",
    "print(x <= y)"
   ]
  },
  {
   "cell_type": "markdown",
   "id": "b92d8ac0",
   "metadata": {},
   "source": [
    "### Logical Operators"
   ]
  },
  {
   "cell_type": "code",
   "execution_count": 6,
   "id": "60281767",
   "metadata": {},
   "outputs": [
    {
     "name": "stdout",
     "output_type": "stream",
     "text": [
      "True\n",
      "True\n",
      "False\n"
     ]
    }
   ],
   "source": [
    "x = 5\n",
    "\n",
    "print(x > 3 and x < 10)\n",
    "print(x > 3 or x < 4)\n",
    "print(not(x > 3 and x < 10))"
   ]
  },
  {
   "cell_type": "markdown",
   "id": "841eddff",
   "metadata": {},
   "source": [
    "## Variables"
   ]
  },
  {
   "cell_type": "code",
   "execution_count": 7,
   "id": "53ceb7cb",
   "metadata": {},
   "outputs": [
    {
     "name": "stdout",
     "output_type": "stream",
     "text": [
      "The type of variable i is <class 'int'>\n",
      "The type of variable f is <class 'float'>\n",
      "The type of variable s1 is <class 'str'>\n",
      "The type of variable s2 is <class 'str'>\n",
      "The type of variable b is <class 'bool'>\n",
      "The type of variable c is <class 'complex'>\n"
     ]
    }
   ],
   "source": [
    "i = 5                                        # Integer\n",
    "f = 3.14                                     # Float\n",
    "s1 = 'string variable with single qoutes'    # String\n",
    "s2 = \"string variable with double qoutes\"    # String\n",
    "b = True                                     # Boolean\n",
    "c = 3 + 4j                                   # Complex\n",
    "\n",
    "print('The type of variable i is', type(i))\n",
    "print('The type of variable f is', type(f))\n",
    "print('The type of variable s1 is', type(s1))\n",
    "print('The type of variable s2 is', type(s2))\n",
    "print('The type of variable b is', type(b))\n",
    "print('The type of variable c is', type(c))"
   ]
  },
  {
   "cell_type": "code",
   "execution_count": 8,
   "id": "ab4487d1",
   "metadata": {},
   "outputs": [
    {
     "name": "stdout",
     "output_type": "stream",
     "text": [
      "The type of variable l is <class 'list'>\n",
      "The type of variable t is <class 'tuple'>\n",
      "The type of variable s is <class 'set'>\n",
      "The type of variable d is <class 'dict'>\n"
     ]
    }
   ],
   "source": [
    "l = [1,2,3,4]                      # List\n",
    "#l = list((1,2,3,4))\n",
    "t = (1,2,3,4)                      # Tuple\n",
    "#t = tuple((1,2,3,4))\n",
    "s = {1,2,3,4}                      # Set\n",
    "#s = set((1,2,3,4))\n",
    "d = {'Ali': 24, 'Mohammad': 27}    # Dictionary\n",
    "#d = dict('Ali'=24, 'Mohammad'=27)\n",
    "\n",
    "print('The type of variable l is', type(l))\n",
    "print('The type of variable t is', type(t))\n",
    "print('The type of variable s is', type(s))\n",
    "print('The type of variable d is', type(d))"
   ]
  },
  {
   "cell_type": "markdown",
   "id": "ec0fd785",
   "metadata": {},
   "source": [
    "### Casting"
   ]
  },
  {
   "cell_type": "code",
   "execution_count": 9,
   "id": "e62e7e4b",
   "metadata": {},
   "outputs": [
    {
     "name": "stdout",
     "output_type": "stream",
     "text": [
      "The value of variable i is 1\n",
      "The value of variable f is 1.0\n",
      "The value of variable s is 1\n",
      "The value of variable b0 is False\n",
      "The value of variable b1 is True\n",
      "The value of variable c is (1+0j)\n"
     ]
    }
   ],
   "source": [
    "i = int(1)        # i = 1\n",
    "f = float(1)      # f = 1.0\n",
    "s = str(1)        # s = '1'\n",
    "b0 = bool(0)      # b0 = False\n",
    "b1 = bool(1)      # b1 = True\n",
    "c = complex(1)    # c = (1 + 0j)\n",
    "\n",
    "print('The value of variable i is', i)\n",
    "print('The value of variable f is', f)\n",
    "print('The value of variable s is', s)\n",
    "print('The value of variable b0 is', b0)\n",
    "print('The value of variable b1 is', b1)\n",
    "print('The value of variable c is', c)"
   ]
  },
  {
   "cell_type": "markdown",
   "id": "4dc6ae6a",
   "metadata": {},
   "source": [
    "### Variable Names"
   ]
  },
  {
   "cell_type": "markdown",
   "id": "4ea7056c",
   "metadata": {},
   "source": [
    "Rules for Python variables:\n",
    "- A variable name must start with a letter or the underscore character\n",
    "- A variable name cannot start with a number\n",
    "- A variable name can only contain alpha-numeric characters and underscores (A-z, 0-9, and _ )\n",
    "- Variable names are case-sensitive (age, Age and AGE are three different variables)"
   ]
  },
  {
   "cell_type": "code",
   "execution_count": 10,
   "id": "80fc3221",
   "metadata": {},
   "outputs": [
    {
     "name": "stdout",
     "output_type": "stream",
     "text": [
      "myvar = Kourosh\n",
      "my_var = Ali\n",
      "_my_var = 2.7\n",
      "myVar = 75\n",
      "MYVAR = True\n",
      "myvar2 = False\n"
     ]
    }
   ],
   "source": [
    "myvar = \"Kourosh\"\n",
    "my_var = 'Ali'\n",
    "_my_var = 2.7\n",
    "myVar = 75\n",
    "MYVAR = True\n",
    "myvar2 = False\n",
    "\n",
    "print('myvar =', myvar)\n",
    "print('my_var =', my_var)\n",
    "print('_my_var =', _my_var)\n",
    "print('myVar =', myVar)\n",
    "print('MYVAR =', MYVAR)\n",
    "print('myvar2 =', myvar2)"
   ]
  },
  {
   "cell_type": "markdown",
   "id": "76e6f2c6",
   "metadata": {},
   "source": [
    "#### Multi Words Variable Names"
   ]
  },
  {
   "cell_type": "markdown",
   "id": "35524b65",
   "metadata": {},
   "source": [
    "##### Camel Case"
   ]
  },
  {
   "cell_type": "code",
   "execution_count": 11,
   "id": "bb8f4442",
   "metadata": {},
   "outputs": [],
   "source": [
    "myVariableName = \"Kourosh\""
   ]
  },
  {
   "cell_type": "markdown",
   "id": "cb63c4de",
   "metadata": {},
   "source": [
    "##### Pascal Case"
   ]
  },
  {
   "cell_type": "code",
   "execution_count": 12,
   "id": "5320346c",
   "metadata": {},
   "outputs": [],
   "source": [
    "MyVariableName = \"Kourosh\""
   ]
  },
  {
   "cell_type": "markdown",
   "id": "9eb76251",
   "metadata": {},
   "source": [
    "##### Snake Case"
   ]
  },
  {
   "cell_type": "code",
   "execution_count": 13,
   "id": "5855d10d",
   "metadata": {},
   "outputs": [],
   "source": [
    "my_variable_name = \"Kourosh\""
   ]
  },
  {
   "cell_type": "markdown",
   "id": "9fe6508c",
   "metadata": {},
   "source": [
    "### Assign Multiple Values"
   ]
  },
  {
   "cell_type": "code",
   "execution_count": 14,
   "id": "e764ceee",
   "metadata": {},
   "outputs": [
    {
     "name": "stdout",
     "output_type": "stream",
     "text": [
      "The value of variable x is Orange\n",
      "The value of variable y is Banana\n",
      "The value of variable z is Cherry\n"
     ]
    }
   ],
   "source": [
    "x, y, z = \"Orange\", \"Banana\", \"Cherry\"\n",
    "\n",
    "print('The value of variable x is', x)    # x = \"Orange\"\n",
    "print('The value of variable y is', y)    # y = \"Banana\"\n",
    "print('The value of variable z is', z)    # z = \"Cherry\""
   ]
  },
  {
   "cell_type": "code",
   "execution_count": 15,
   "id": "d6a6b288",
   "metadata": {},
   "outputs": [
    {
     "name": "stdout",
     "output_type": "stream",
     "text": [
      "The value of variable x is Orange\n",
      "The value of variable y is Orange\n",
      "The value of variable z is Orange\n"
     ]
    }
   ],
   "source": [
    "x = y = z = \"Orange\"\n",
    "\n",
    "print('The value of variable x is', x)    # x = \"Orange\"\n",
    "print('The value of variable y is', y)    # y = \"Orange\"\n",
    "print('The value of variable z is', z)    # z = \"Orange\""
   ]
  },
  {
   "cell_type": "code",
   "execution_count": 16,
   "id": "251f9591",
   "metadata": {},
   "outputs": [
    {
     "name": "stdout",
     "output_type": "stream",
     "text": [
      "The value of variable x is Apple\n",
      "The value of variable y is Banana\n",
      "The value of variable z is Cherry\n"
     ]
    }
   ],
   "source": [
    "fruits = [\"Apple\", \"Banana\", \"Cherry\"]\n",
    "x, y, z = fruits\n",
    "\n",
    "print('The value of variable x is', x)    # x = \"Apple\"\n",
    "print('The value of variable y is', y)    # y = \"Banana\"\n",
    "print('The value of variable z is', z)    # z = \"Cherry\""
   ]
  },
  {
   "cell_type": "markdown",
   "id": "94a00080",
   "metadata": {},
   "source": [
    "## String"
   ]
  },
  {
   "cell_type": "code",
   "execution_count": 17,
   "id": "5bf1671e",
   "metadata": {},
   "outputs": [
    {
     "name": "stdout",
     "output_type": "stream",
     "text": [
      "The value of the s1 variable is:  This is a single line string variable. \n",
      "The value of the s2 variable is: This is a\n",
      "multiline string variable.\n"
     ]
    }
   ],
   "source": [
    "s1 = \" This is a single line string variable. \"\n",
    "s2 = \"\"\"This is a\n",
    "multiline string variable.\"\"\"\n",
    "\n",
    "print(\"The value of the s1 variable is:\", s1)\n",
    "print(\"The value of the s2 variable is:\", s2)"
   ]
  },
  {
   "cell_type": "markdown",
   "id": "6bc91d9f",
   "metadata": {},
   "source": [
    "**Note:** in the result, the line breaks are inserted at the same position as in the code."
   ]
  },
  {
   "cell_type": "code",
   "execution_count": 18,
   "id": "a4678215",
   "metadata": {},
   "outputs": [
    {
     "name": "stdout",
     "output_type": "stream",
     "text": [
      "line 1:  This is a single line string variable. \n",
      "line 2: T\n",
      "line 3: This\n",
      "line 4: is a single line string variable. \n",
      "line 5: Ti\n",
      "line 6:  .elbairav gnirts enil elgnis a si sihT \n",
      "line 7: variable\n"
     ]
    }
   ],
   "source": [
    "print('line 1:', s1)\n",
    "#print(s1[:])\n",
    "\n",
    "print('line 2:', s1[1])\n",
    "\n",
    "print('line 3:', s1[1:5])\n",
    "\n",
    "print('line 4:', s1[6:])\n",
    "\n",
    "print('line 5:', s1[1:4:2])\n",
    "\n",
    "print('line 6:', s1[::-1])\n",
    "\n",
    "print('line 7:', s1[-10:-2])"
   ]
  },
  {
   "cell_type": "code",
   "execution_count": 19,
   "id": "25d58c0b",
   "metadata": {},
   "outputs": [
    {
     "name": "stdout",
     "output_type": "stream",
     "text": [
      "True\n",
      "True\n"
     ]
    }
   ],
   "source": [
    "print('string' in s1)\n",
    "print('String' not in s1)"
   ]
  },
  {
   "cell_type": "code",
   "execution_count": 20,
   "id": "622e36c2",
   "metadata": {},
   "outputs": [
    {
     "name": "stdout",
     "output_type": "stream",
     "text": [
      "40\n"
     ]
    }
   ],
   "source": [
    "print(len(s1))"
   ]
  },
  {
   "cell_type": "code",
   "execution_count": 21,
   "id": "c2eec641",
   "metadata": {},
   "outputs": [
    {
     "name": "stdout",
     "output_type": "stream",
     "text": [
      " THIS IS A SINGLE LINE STRING VARIABLE. \n",
      " this is a single line string variable. \n"
     ]
    }
   ],
   "source": [
    "print(s1.upper())\n",
    "print(s1.lower())"
   ]
  },
  {
   "cell_type": "markdown",
   "id": "c65e2a3a",
   "metadata": {},
   "source": [
    "The $\\textit{strip()}$ method removes any whitespace from the beginning or the end"
   ]
  },
  {
   "cell_type": "code",
   "execution_count": 22,
   "id": "36987682",
   "metadata": {},
   "outputs": [
    {
     "name": "stdout",
     "output_type": "stream",
     "text": [
      "This is a single line string variable.\n"
     ]
    }
   ],
   "source": [
    "print(s1.strip())"
   ]
  },
  {
   "cell_type": "code",
   "execution_count": 23,
   "id": "dd8acbcf",
   "metadata": {},
   "outputs": [
    {
     "name": "stdout",
     "output_type": "stream",
     "text": [
      " Thjs js a sjngle ljne strjng varjable. \n"
     ]
    }
   ],
   "source": [
    "print(s1.replace('i', 'j'))"
   ]
  },
  {
   "cell_type": "code",
   "execution_count": 24,
   "id": "83e5c528",
   "metadata": {},
   "outputs": [
    {
     "name": "stdout",
     "output_type": "stream",
     "text": [
      "['', 'This', 'is', 'a', 'single', 'line', 'string', 'variable.', '']\n"
     ]
    }
   ],
   "source": [
    "print(s1.split(' '))"
   ]
  },
  {
   "cell_type": "markdown",
   "id": "ba3f3a34",
   "metadata": {},
   "source": [
    "### Format Strings"
   ]
  },
  {
   "cell_type": "code",
   "execution_count": 25,
   "id": "bc46bf6b",
   "metadata": {},
   "outputs": [
    {
     "name": "stdout",
     "output_type": "stream",
     "text": [
      "I want 3 pieces of item 567 for 49.95 dollars.\n"
     ]
    }
   ],
   "source": [
    "quantity = 3\n",
    "itemno = 567\n",
    "price = 49.95\n",
    "myorder = \"I want {} pieces of item {} for {} dollars.\"\n",
    "\n",
    "print(myorder.format(quantity, itemno, price))"
   ]
  },
  {
   "cell_type": "code",
   "execution_count": 26,
   "id": "5873297a",
   "metadata": {},
   "outputs": [
    {
     "name": "stdout",
     "output_type": "stream",
     "text": [
      "I want to pay 49.95 dollars for 3 pieces of item 567.\n"
     ]
    }
   ],
   "source": [
    "quantity = 3\n",
    "itemno = 567\n",
    "price = 49.95\n",
    "myorder = \"I want to pay {2} dollars for {0} pieces of item {1}.\"\n",
    "\n",
    "print(myorder.format(quantity, itemno, price))"
   ]
  },
  {
   "cell_type": "markdown",
   "id": "4dc6da59",
   "metadata": {},
   "source": [
    "### Escape Characters"
   ]
  },
  {
   "cell_type": "markdown",
   "id": "e81a75d9",
   "metadata": {},
   "source": [
    "To insert characters that are illegal in a string, use an escape character. An escape character is a backslash \\ followed by the character you want to insert."
   ]
  },
  {
   "cell_type": "code",
   "execution_count": 27,
   "id": "bea8257c",
   "metadata": {},
   "outputs": [
    {
     "ename": "SyntaxError",
     "evalue": "invalid syntax (2741824435.py, line 1)",
     "output_type": "error",
     "traceback": [
      "\u001b[1;36m  Input \u001b[1;32mIn [27]\u001b[1;36m\u001b[0m\n\u001b[1;33m    print(\"We are the so-called \"Vikings\" from the north.\")\u001b[0m\n\u001b[1;37m                                 ^\u001b[0m\n\u001b[1;31mSyntaxError\u001b[0m\u001b[1;31m:\u001b[0m invalid syntax\n"
     ]
    }
   ],
   "source": [
    "print(\"We are the so-called \"Vikings\" from the north.\")"
   ]
  },
  {
   "cell_type": "code",
   "execution_count": 28,
   "id": "61b3618f",
   "metadata": {},
   "outputs": [
    {
     "name": "stdout",
     "output_type": "stream",
     "text": [
      "We are the so-called \"Vikings\" from the north.\n"
     ]
    }
   ],
   "source": [
    "print(\"We are the so-called \\\"Vikings\\\" from the north.\")"
   ]
  },
  {
   "cell_type": "markdown",
   "id": "32a6fe40",
   "metadata": {},
   "source": [
    "Other escape characters used in Python:"
   ]
  },
  {
   "cell_type": "code",
   "execution_count": 29,
   "id": "aa274cc9",
   "metadata": {},
   "outputs": [
    {
     "name": "stdout",
     "output_type": "stream",
     "text": [
      "It's alright.\n",
      "This will insert one \\ (backslash).\n",
      "Hello\n",
      "World!\n",
      "Hello\tWorld!\n",
      "Hello \bWorld!\n"
     ]
    }
   ],
   "source": [
    "print('It\\'s alright.')\n",
    "print(\"This will insert one \\\\ (backslash).\")\n",
    "print(\"Hello\\nWorld!\")\n",
    "print(\"Hello\\tWorld!\")\n",
    "print(\"Hello \\bWorld!\")"
   ]
  },
  {
   "cell_type": "markdown",
   "id": "c9f4102d",
   "metadata": {},
   "source": [
    "## Boolean"
   ]
  },
  {
   "cell_type": "code",
   "execution_count": 30,
   "id": "a0216d36",
   "metadata": {},
   "outputs": [
    {
     "name": "stdout",
     "output_type": "stream",
     "text": [
      "True\n",
      "False\n",
      "False\n"
     ]
    }
   ],
   "source": [
    "print(10 > 9)\n",
    "print(10 == 9)\n",
    "print(10 < 9)"
   ]
  },
  {
   "cell_type": "markdown",
   "id": "bd4d786d",
   "metadata": {},
   "source": [
    "In fact, there are not many values that evaluate to False, except empty values, such as (), [], {}, \"\", the number 0, and the value None. And of course the value False evaluates to False."
   ]
  },
  {
   "cell_type": "code",
   "execution_count": 31,
   "id": "d989213b",
   "metadata": {},
   "outputs": [
    {
     "name": "stdout",
     "output_type": "stream",
     "text": [
      "False\n",
      "False\n",
      "False\n",
      "False\n",
      "False\n",
      "False\n",
      "False\n"
     ]
    }
   ],
   "source": [
    "print(bool(False))\n",
    "print(bool(None))\n",
    "print(bool(0))\n",
    "print(bool(\"\"))\n",
    "print(bool(()))\n",
    "print(bool([]))\n",
    "print(bool({}))"
   ]
  },
  {
   "cell_type": "markdown",
   "id": "0c317810",
   "metadata": {},
   "source": [
    "The $\\textit{isinstance()}$ function, which can be used to determine if an object is of a certain data type:"
   ]
  },
  {
   "cell_type": "code",
   "execution_count": 32,
   "id": "643f2ad0",
   "metadata": {},
   "outputs": [
    {
     "name": "stdout",
     "output_type": "stream",
     "text": [
      "True\n"
     ]
    }
   ],
   "source": [
    "x = 200\n",
    "\n",
    "print(isinstance(x, int))\n",
    "#print(type(x) == int)"
   ]
  },
  {
   "cell_type": "markdown",
   "id": "57b195b9",
   "metadata": {},
   "source": [
    "## Lists"
   ]
  },
  {
   "cell_type": "code",
   "execution_count": 33,
   "id": "bf4d7d07",
   "metadata": {},
   "outputs": [
    {
     "name": "stdout",
     "output_type": "stream",
     "text": [
      "['apple', 'banana', 'cherry', 'apple', 'cherry']\n",
      "The type of thislist variable is <class 'list'>\n"
     ]
    }
   ],
   "source": [
    "thislist = [\"apple\", \"banana\", \"cherry\", \"apple\", \"cherry\"]\n",
    "#thislist = list((\"apple\", \"banana\", \"cherry\", \"apple\", \"cherry\"))\n",
    "\n",
    "print(thislist)\n",
    "print('The type of thislist variable is', type(thislist))"
   ]
  },
  {
   "cell_type": "markdown",
   "id": "b5fa0162",
   "metadata": {},
   "source": [
    "A list can contain different data types:"
   ]
  },
  {
   "cell_type": "code",
   "execution_count": 34,
   "id": "050658e4",
   "metadata": {},
   "outputs": [
    {
     "name": "stdout",
     "output_type": "stream",
     "text": [
      "['abc', 34, True, 40, 'male']\n"
     ]
    }
   ],
   "source": [
    "list1 = [\"abc\", 34, True, 40, \"male\"]\n",
    "print(list1)"
   ]
  },
  {
   "cell_type": "code",
   "execution_count": 35,
   "id": "427d122c",
   "metadata": {},
   "outputs": [
    {
     "name": "stdout",
     "output_type": "stream",
     "text": [
      "The number of items in the list is 5\n"
     ]
    }
   ],
   "source": [
    "print('The number of items in the list is', len(list1))"
   ]
  },
  {
   "cell_type": "markdown",
   "id": "42c5ee51",
   "metadata": {},
   "source": [
    "### Access List Items"
   ]
  },
  {
   "cell_type": "code",
   "execution_count": 36,
   "id": "8aabebb1",
   "metadata": {},
   "outputs": [
    {
     "name": "stdout",
     "output_type": "stream",
     "text": [
      "banana\n",
      "cherry\n"
     ]
    }
   ],
   "source": [
    "print(thislist[1])\n",
    "print(thislist[-1])"
   ]
  },
  {
   "cell_type": "code",
   "execution_count": 37,
   "id": "673b1fc9",
   "metadata": {},
   "outputs": [
    {
     "name": "stdout",
     "output_type": "stream",
     "text": [
      "['cherry', 'apple', 'cherry']\n",
      "['apple', 'banana', 'cherry', 'apple']\n",
      "['cherry', 'apple', 'cherry']\n",
      "['banana', 'cherry', 'apple']\n"
     ]
    }
   ],
   "source": [
    "print(thislist[2:5])\n",
    "\n",
    "print(thislist[:4])\n",
    "\n",
    "print(thislist[2:])\n",
    "\n",
    "print(thislist[-4:-1])"
   ]
  },
  {
   "cell_type": "markdown",
   "id": "d7419c38",
   "metadata": {},
   "source": [
    "### Change List Items"
   ]
  },
  {
   "cell_type": "code",
   "execution_count": 38,
   "id": "27b4c357",
   "metadata": {},
   "outputs": [
    {
     "name": "stdout",
     "output_type": "stream",
     "text": [
      "['apple', 'blackcurrant', 'cherry', 'apple', 'cherry']\n"
     ]
    }
   ],
   "source": [
    "thislist[1] = \"blackcurrant\"\n",
    "print(thislist)"
   ]
  },
  {
   "cell_type": "code",
   "execution_count": 39,
   "id": "eb0704d7",
   "metadata": {},
   "outputs": [
    {
     "name": "stdout",
     "output_type": "stream",
     "text": [
      "['apple', 'blackcurrant', 'watermelon', 'cherry', 'apple', 'cherry']\n"
     ]
    }
   ],
   "source": [
    "thislist[1:2] = [\"blackcurrant\", \"watermelon\"]\n",
    "print(thislist)"
   ]
  },
  {
   "cell_type": "code",
   "execution_count": 40,
   "id": "e625a04a",
   "metadata": {},
   "outputs": [
    {
     "name": "stdout",
     "output_type": "stream",
     "text": [
      "['apple', 'watermelon', 'cherry', 'apple', 'cherry']\n"
     ]
    }
   ],
   "source": [
    "thislist[1:3] = [\"watermelon\"]\n",
    "print(thislist)"
   ]
  },
  {
   "cell_type": "markdown",
   "id": "80b8760d",
   "metadata": {},
   "source": [
    "### List Methods"
   ]
  },
  {
   "cell_type": "markdown",
   "id": "668e5196",
   "metadata": {},
   "source": [
    "#### Add List Items"
   ]
  },
  {
   "cell_type": "code",
   "execution_count": 41,
   "id": "8260afe4",
   "metadata": {},
   "outputs": [
    {
     "name": "stdout",
     "output_type": "stream",
     "text": [
      "['apple', 'watermelon', 'cherry', 'apple', 'cherry', 'orange']\n"
     ]
    }
   ],
   "source": [
    "thislist.append(\"orange\")\n",
    "print(thislist)"
   ]
  },
  {
   "cell_type": "code",
   "execution_count": 42,
   "id": "be170ca2",
   "metadata": {},
   "outputs": [
    {
     "name": "stdout",
     "output_type": "stream",
     "text": [
      "['apple', 'watermelon', 'watermelon', 'cherry', 'apple', 'cherry', 'orange']\n"
     ]
    }
   ],
   "source": [
    "thislist.insert(2, \"watermelon\")\n",
    "print(thislist)"
   ]
  },
  {
   "cell_type": "code",
   "execution_count": 43,
   "id": "9f090ea8",
   "metadata": {},
   "outputs": [
    {
     "name": "stdout",
     "output_type": "stream",
     "text": [
      "['apple', 'watermelon', 'watermelon', 'cherry', 'apple', 'cherry', 'orange', 'mango', 'pineapple', 'papaya']\n"
     ]
    }
   ],
   "source": [
    "tropical = [\"mango\", \"pineapple\", \"papaya\"]\n",
    "thislist.extend(tropical)\n",
    "print(thislist)"
   ]
  },
  {
   "cell_type": "markdown",
   "id": "71c4d46c",
   "metadata": {},
   "source": [
    "The $\\textit{extend()}$ method does not have to append lists, you can add any iterable object (tuples, sets, dictionaries etc.)."
   ]
  },
  {
   "cell_type": "code",
   "execution_count": 44,
   "id": "0308d871",
   "metadata": {},
   "outputs": [
    {
     "name": "stdout",
     "output_type": "stream",
     "text": [
      "['apple', 'watermelon', 'watermelon', 'cherry', 'apple', 'cherry', 'orange', 'mango', 'pineapple', 'papaya', 'kiwi', 'orange']\n"
     ]
    }
   ],
   "source": [
    "thistuple = (\"kiwi\", \"orange\")\n",
    "thislist.extend(thistuple)\n",
    "print(thislist)"
   ]
  },
  {
   "cell_type": "markdown",
   "id": "8e630ef9",
   "metadata": {},
   "source": [
    "#### Sort Lists"
   ]
  },
  {
   "cell_type": "code",
   "execution_count": 45,
   "id": "f31f6c9c",
   "metadata": {},
   "outputs": [
    {
     "name": "stdout",
     "output_type": "stream",
     "text": [
      "['apple', 'apple', 'cherry', 'cherry', 'kiwi', 'mango', 'orange', 'orange', 'papaya', 'pineapple', 'watermelon', 'watermelon']\n"
     ]
    }
   ],
   "source": [
    "thislist.sort()\n",
    "print(thislist)"
   ]
  },
  {
   "cell_type": "code",
   "execution_count": 46,
   "id": "c3a8373f",
   "metadata": {},
   "outputs": [
    {
     "name": "stdout",
     "output_type": "stream",
     "text": [
      "['watermelon', 'watermelon', 'pineapple', 'papaya', 'orange', 'orange', 'mango', 'kiwi', 'cherry', 'cherry', 'apple', 'apple']\n"
     ]
    }
   ],
   "source": [
    "thislist.sort(reverse = True)\n",
    "#thislist.reverse()\n",
    "print(thislist)"
   ]
  },
  {
   "cell_type": "markdown",
   "id": "3ce8cda9",
   "metadata": {},
   "source": [
    "#### Remove List Items"
   ]
  },
  {
   "cell_type": "code",
   "execution_count": 47,
   "id": "5264f551",
   "metadata": {},
   "outputs": [
    {
     "name": "stdout",
     "output_type": "stream",
     "text": [
      "['watermelon', 'watermelon', 'pineapple', 'papaya', 'orange', 'orange', 'mango', 'kiwi', 'cherry', 'cherry', 'apple']\n"
     ]
    }
   ],
   "source": [
    "thislist.remove(\"apple\")\n",
    "print(thislist)"
   ]
  },
  {
   "cell_type": "markdown",
   "id": "d53d7db6",
   "metadata": {},
   "source": [
    "The $\\textit{pop()}$ method removes the specified index."
   ]
  },
  {
   "cell_type": "code",
   "execution_count": 48,
   "id": "1dfb8a99",
   "metadata": {},
   "outputs": [
    {
     "name": "stdout",
     "output_type": "stream",
     "text": [
      "['watermelon', 'pineapple', 'papaya', 'orange', 'orange', 'mango', 'kiwi', 'cherry', 'cherry', 'apple']\n"
     ]
    }
   ],
   "source": [
    "thislist.pop(1)\n",
    "print(thislist)"
   ]
  },
  {
   "cell_type": "markdown",
   "id": "09ce75bd",
   "metadata": {},
   "source": [
    "If you do not specify the index, the $\\textit{pop()}$ method removes the last item."
   ]
  },
  {
   "cell_type": "code",
   "execution_count": 49,
   "id": "1f57ebb3",
   "metadata": {},
   "outputs": [
    {
     "name": "stdout",
     "output_type": "stream",
     "text": [
      "['watermelon', 'pineapple', 'papaya', 'orange', 'orange', 'mango', 'kiwi', 'cherry', 'cherry']\n"
     ]
    }
   ],
   "source": [
    "thislist.pop()\n",
    "print(thislist)"
   ]
  },
  {
   "cell_type": "markdown",
   "id": "1a0ae562",
   "metadata": {},
   "source": [
    "The $\\textit{del}$ keyword also removes the specified index:"
   ]
  },
  {
   "cell_type": "code",
   "execution_count": 50,
   "id": "92bcbf9c",
   "metadata": {},
   "outputs": [
    {
     "name": "stdout",
     "output_type": "stream",
     "text": [
      "['pineapple', 'papaya', 'orange', 'orange', 'mango', 'kiwi', 'cherry', 'cherry']\n"
     ]
    }
   ],
   "source": [
    "del thislist[0]\n",
    "print(thislist)"
   ]
  },
  {
   "cell_type": "markdown",
   "id": "eacfc5cd",
   "metadata": {},
   "source": [
    "The $\\textit{clear()}$ method empties the list. The list still remains, but it has no content."
   ]
  },
  {
   "cell_type": "code",
   "execution_count": 51,
   "id": "b841bfb0",
   "metadata": {},
   "outputs": [
    {
     "name": "stdout",
     "output_type": "stream",
     "text": [
      "[]\n"
     ]
    }
   ],
   "source": [
    "thislist.clear()\n",
    "print(thislist)"
   ]
  },
  {
   "cell_type": "markdown",
   "id": "1b446f4b",
   "metadata": {},
   "source": [
    "The $\\textit{del}$ keyword can also delete the list completely."
   ]
  },
  {
   "cell_type": "code",
   "execution_count": 52,
   "id": "661e9b61",
   "metadata": {},
   "outputs": [
    {
     "ename": "NameError",
     "evalue": "name 'thislist' is not defined",
     "output_type": "error",
     "traceback": [
      "\u001b[1;31m---------------------------------------------------------------------------\u001b[0m",
      "\u001b[1;31mNameError\u001b[0m                                 Traceback (most recent call last)",
      "Input \u001b[1;32mIn [52]\u001b[0m, in \u001b[0;36m<cell line: 2>\u001b[1;34m()\u001b[0m\n\u001b[0;32m      1\u001b[0m \u001b[38;5;28;01mdel\u001b[39;00m thislist\n\u001b[1;32m----> 2\u001b[0m \u001b[38;5;28mprint\u001b[39m(\u001b[43mthislist\u001b[49m)\n",
      "\u001b[1;31mNameError\u001b[0m: name 'thislist' is not defined"
     ]
    }
   ],
   "source": [
    "del thislist\n",
    "print(thislist)"
   ]
  },
  {
   "cell_type": "markdown",
   "id": "b3f73682",
   "metadata": {},
   "source": [
    "### Python If ... Else"
   ]
  },
  {
   "cell_type": "code",
   "execution_count": null,
   "id": "ba578403",
   "metadata": {},
   "outputs": [],
   "source": [
    "a = 200\n",
    "b = 33\n",
    "if b > a:\n",
    "    print(\"b is greater than a\")\n",
    "elif a == b:\n",
    "    print(\"a and b are equal\")\n",
    "else:\n",
    "    print(\"a is greater than b\")"
   ]
  },
  {
   "cell_type": "code",
   "execution_count": null,
   "id": "02e84b00",
   "metadata": {},
   "outputs": [],
   "source": [
    "if a > b: print(\"a is greater than b\")"
   ]
  },
  {
   "cell_type": "code",
   "execution_count": null,
   "id": "0f1ae24c",
   "metadata": {},
   "outputs": [],
   "source": [
    "a = 2\n",
    "b = 330\n",
    "print(\"A\") if a > b else print(\"B\")\n",
    "\n",
    "if a > b:\n",
    "    print(\"A\")\n",
    "else:\n",
    "    print(\"B\")"
   ]
  },
  {
   "cell_type": "markdown",
   "id": "37e15afc",
   "metadata": {},
   "source": [
    "This technique is known as $\\textbf{Ternary Operators}$, or $\\textbf{Conditional Expressions}$."
   ]
  },
  {
   "cell_type": "code",
   "execution_count": 53,
   "id": "59f8e5d1",
   "metadata": {},
   "outputs": [
    {
     "name": "stdout",
     "output_type": "stream",
     "text": [
      "=\n"
     ]
    }
   ],
   "source": [
    "a = 330\n",
    "b = 330\n",
    "print(\"A\") if a > b else print(\"=\") if a == b else print(\"B\")"
   ]
  },
  {
   "cell_type": "code",
   "execution_count": 54,
   "id": "ee0bb70c",
   "metadata": {},
   "outputs": [
    {
     "name": "stdout",
     "output_type": "stream",
     "text": [
      "Both conditions are True\n"
     ]
    }
   ],
   "source": [
    "a = 200\n",
    "b = 33\n",
    "c = 500\n",
    "if a > b and c > a:\n",
    "    print(\"Both conditions are True\")"
   ]
  },
  {
   "cell_type": "code",
   "execution_count": 55,
   "id": "08bb0cac",
   "metadata": {},
   "outputs": [
    {
     "name": "stdout",
     "output_type": "stream",
     "text": [
      "At least one of the conditions is True\n"
     ]
    }
   ],
   "source": [
    "a = 200\n",
    "b = 33\n",
    "c = 500\n",
    "if a > b or a > c:\n",
    "    print(\"At least one of the conditions is True\")"
   ]
  },
  {
   "cell_type": "markdown",
   "id": "58483bb2",
   "metadata": {},
   "source": [
    "#### Nested If"
   ]
  },
  {
   "cell_type": "code",
   "execution_count": 56,
   "id": "969b934f",
   "metadata": {},
   "outputs": [
    {
     "name": "stdout",
     "output_type": "stream",
     "text": [
      "Above ten,\n",
      "and also above 20!\n"
     ]
    }
   ],
   "source": [
    "x = 41\n",
    "\n",
    "if x > 10:\n",
    "    print(\"Above ten,\")\n",
    "    if x > 20:\n",
    "        print(\"and also above 20!\")\n",
    "    else:\n",
    "        print(\"but not above 20.\")"
   ]
  },
  {
   "cell_type": "markdown",
   "id": "c45d59ec",
   "metadata": {},
   "source": [
    "### While Loop"
   ]
  },
  {
   "cell_type": "code",
   "execution_count": 57,
   "id": "f3cec245",
   "metadata": {},
   "outputs": [
    {
     "name": "stdout",
     "output_type": "stream",
     "text": [
      "1\n",
      "2\n",
      "3\n"
     ]
    }
   ],
   "source": [
    "i = 1\n",
    "while i < 6:\n",
    "    print(i)\n",
    "    if i == 3:\n",
    "        break\n",
    "    i += 1"
   ]
  },
  {
   "cell_type": "code",
   "execution_count": 58,
   "id": "3f7d4a31",
   "metadata": {},
   "outputs": [
    {
     "name": "stdout",
     "output_type": "stream",
     "text": [
      "1\n",
      "2\n",
      "4\n",
      "5\n",
      "6\n"
     ]
    }
   ],
   "source": [
    "i = 0\n",
    "while i < 6:\n",
    "    i += 1\n",
    "    if i == 3:\n",
    "        continue\n",
    "    print(i)"
   ]
  },
  {
   "cell_type": "markdown",
   "id": "9af01307",
   "metadata": {},
   "source": [
    "### For Loops"
   ]
  },
  {
   "cell_type": "code",
   "execution_count": 59,
   "id": "b6f41b98",
   "metadata": {},
   "outputs": [
    {
     "name": "stdout",
     "output_type": "stream",
     "text": [
      "apple\n"
     ]
    }
   ],
   "source": [
    "fruits = [\"apple\", \"banana\", \"cherry\"]\n",
    "for x in fruits:\n",
    "    if x == \"banana\":\n",
    "        break\n",
    "    print(x)"
   ]
  },
  {
   "cell_type": "code",
   "execution_count": 60,
   "id": "627e58af",
   "metadata": {},
   "outputs": [
    {
     "name": "stdout",
     "output_type": "stream",
     "text": [
      "apple\n",
      "cherry\n"
     ]
    }
   ],
   "source": [
    "fruits = [\"apple\", \"banana\", \"cherry\"]\n",
    "for x in fruits:\n",
    "    if x == \"banana\":\n",
    "        continue\n",
    "    print(x)"
   ]
  },
  {
   "cell_type": "code",
   "execution_count": 61,
   "id": "fb031d1f",
   "metadata": {},
   "outputs": [
    {
     "name": "stdout",
     "output_type": "stream",
     "text": [
      "0\n",
      "1\n",
      "2\n",
      "3\n",
      "4\n",
      "5\n"
     ]
    }
   ],
   "source": [
    "for x in range(6):\n",
    "    print(x)"
   ]
  },
  {
   "cell_type": "code",
   "execution_count": 62,
   "id": "a5098182",
   "metadata": {},
   "outputs": [
    {
     "name": "stdout",
     "output_type": "stream",
     "text": [
      "2\n",
      "3\n",
      "4\n",
      "5\n"
     ]
    }
   ],
   "source": [
    "for x in range(2, 6):\n",
    "    print(x)"
   ]
  },
  {
   "cell_type": "code",
   "execution_count": 63,
   "id": "e7664e5f",
   "metadata": {},
   "outputs": [
    {
     "name": "stdout",
     "output_type": "stream",
     "text": [
      "2\n",
      "5\n",
      "8\n",
      "11\n",
      "14\n",
      "17\n",
      "20\n",
      "23\n",
      "26\n",
      "29\n"
     ]
    }
   ],
   "source": [
    "for x in range(2, 30, 3):\n",
    "    print(x)"
   ]
  },
  {
   "cell_type": "markdown",
   "id": "39f922b3",
   "metadata": {},
   "source": [
    "### Python Functions"
   ]
  },
  {
   "cell_type": "code",
   "execution_count": 64,
   "id": "d95d6207",
   "metadata": {},
   "outputs": [
    {
     "name": "stdout",
     "output_type": "stream",
     "text": [
      "Kourosh Bagheri\n"
     ]
    }
   ],
   "source": [
    "def my_function(fname, lname):\n",
    "    print(fname + \" \" + lname)\n",
    "\n",
    "my_function(\"Kourosh\", \"Bagheri\")"
   ]
  },
  {
   "cell_type": "code",
   "execution_count": 65,
   "id": "29c505c2",
   "metadata": {},
   "outputs": [
    {
     "name": "stdout",
     "output_type": "stream",
     "text": [
      "apple\n",
      "banana\n",
      "cherry\n"
     ]
    }
   ],
   "source": [
    "def my_function(food):\n",
    "    for x in food:\n",
    "        print(x)\n",
    "\n",
    "fruits = [\"apple\", \"banana\", \"cherry\"]\n",
    "\n",
    "my_function(fruits)"
   ]
  },
  {
   "cell_type": "code",
   "execution_count": 66,
   "id": "35ee82df",
   "metadata": {},
   "outputs": [
    {
     "name": "stdout",
     "output_type": "stream",
     "text": [
      "15\n"
     ]
    }
   ],
   "source": [
    "def my_function(x):\n",
    "    return 5 * x\n",
    "\n",
    "print(my_function(3))"
   ]
  },
  {
   "cell_type": "code",
   "execution_count": null,
   "id": "b2570ad6",
   "metadata": {},
   "outputs": [],
   "source": []
  }
 ],
 "metadata": {
  "kernelspec": {
   "display_name": "Python 3 (ipykernel)",
   "language": "python",
   "name": "python3"
  },
  "language_info": {
   "codemirror_mode": {
    "name": "ipython",
    "version": 3
   },
   "file_extension": ".py",
   "mimetype": "text/x-python",
   "name": "python",
   "nbconvert_exporter": "python",
   "pygments_lexer": "ipython3",
   "version": "3.9.12"
  }
 },
 "nbformat": 4,
 "nbformat_minor": 5
}
