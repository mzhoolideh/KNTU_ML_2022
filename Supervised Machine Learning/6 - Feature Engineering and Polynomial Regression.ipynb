{
 "cells": [
  {
   "cell_type": "markdown",
   "id": "ea74634d",
   "metadata": {
    "pycharm": {
     "name": "#%% md\n"
    }
   },
   "source": [
    "# Feature Engineering and Polynomial Regression"
   ]
  },
  {
   "cell_type": "markdown",
   "id": "81386dcf",
   "metadata": {
    "pycharm": {
     "name": "#%% md\n"
    }
   },
   "source": [
    "## Goals\n",
    "In this notebook we will:\n",
    "- explore feature engineering and polynomial regression which allows us to use the machinery of linear regression to fit very complicated, even very non-linear functions.\n"
   ]
  },
  {
   "cell_type": "markdown",
   "id": "f899a3bb",
   "metadata": {
    "pycharm": {
     "name": "#%% md\n"
    }
   },
   "source": [
    "## Tools\n",
    "We will utilize the function developed in previous notebooks as well as matplotlib and NumPy. "
   ]
  },
  {
   "cell_type": "code",
   "execution_count": 1,
   "id": "020d0b16",
   "metadata": {
    "pycharm": {
     "name": "#%%\n"
    }
   },
   "outputs": [],
   "source": [
    "import numpy as np\n",
    "import matplotlib.pyplot as plt\n",
    "from lab_utils_multi import zscore_normalize_features, run_gradient_descent_feng"
   ]
  },
  {
   "cell_type": "markdown",
   "id": "20014fb0",
   "metadata": {
    "pycharm": {
     "name": "#%% md\n"
    }
   },
   "source": [
    "## Feature Engineering and Polynomial Regression Overview\n",
    "\n",
    "Out of the box, linear regression provides a means of building models of the form:\n",
    "<a id='Eq1'></a>\n",
    "$$f_{\\mathbf{w},b} = w_0x_0 + w_1x_1+ ... + w_{n-1}x_{n-1} + b \\tag{1}$$ \n",
    "What if our features/data are non-linear or are combinations of features? For example,  Housing prices do not tend to be linear with living area. How can we use the machinery of linear regression to fit this curve? Recall, the 'machinery' we have is the ability to modify the parameters $\\mathbf{w}$, $\\mathbf{b}$ in [$(1)$](#Eq1) to 'fit' the equation to the training data. However, no amount of adjusting of $\\mathbf{w}$,$\\mathbf{b}$ in [$(1)$](#Eq1) will achieve a fit to a non-linear curve.\n"
   ]
  },
  {
   "cell_type": "markdown",
   "id": "2fc7bacc",
   "metadata": {
    "pycharm": {
     "name": "#%% md\n"
    }
   },
   "source": [
    "### Polynomial Features\n",
    "\n",
    "Above we were considering a scenario where the data was non-linear. Let's try using what we know so far to fit a non-linear curve. We'll start with a simple quadratic: $y = 1+x^2$\n",
    "\n",
    "We are familiar with all the routines we're using. They are available in the `lab_utils.py` file for review. We'll use [`np.c_[..]`](https://numpy.org/doc/stable/reference/generated/numpy.c_.html) which is a NumPy routine to concatenate along the column boundary."
   ]
  },
  {
   "cell_type": "code",
   "execution_count": 2,
   "id": "38194252",
   "metadata": {
    "pycharm": {
     "name": "#%%\n"
    }
   },
   "outputs": [
    {
     "name": "stdout",
     "output_type": "stream",
     "text": [
      "Iteration         0, Cost: 1.65756e+03\n",
      "Iteration       100, Cost: 6.94549e+02\n",
      "Iteration       200, Cost: 5.88475e+02\n",
      "Iteration       300, Cost: 5.26414e+02\n",
      "Iteration       400, Cost: 4.90103e+02\n",
      "Iteration       500, Cost: 4.68858e+02\n",
      "Iteration       600, Cost: 4.56428e+02\n",
      "Iteration       700, Cost: 4.49155e+02\n",
      "Iteration       800, Cost: 4.44900e+02\n",
      "Iteration       900, Cost: 4.42411e+02\n",
      "w,b found by gradient descent: w: [18.69806954], b: -52.0834\n",
      "\n",
      "x: \n",
      " [ 0  1  2  3  4  5  6  7  8  9 10 11 12 13 14 15 16 17 18 19]\n",
      "\n",
      "y (= 1 + x^2): \n",
      " [  1   2   5  10  17  26  37  50  65  82 101 122 145 170 197 226 257 290\n",
      " 325 362]\n",
      "\n",
      "X: \n",
      " [[ 0]\n",
      " [ 1]\n",
      " [ 2]\n",
      " [ 3]\n",
      " [ 4]\n",
      " [ 5]\n",
      " [ 6]\n",
      " [ 7]\n",
      " [ 8]\n",
      " [ 9]\n",
      " [10]\n",
      " [11]\n",
      " [12]\n",
      " [13]\n",
      " [14]\n",
      " [15]\n",
      " [16]\n",
      " [17]\n",
      " [18]\n",
      " [19]]\n",
      "\n",
      "w: \n",
      " [18.69806954]\n",
      "\n",
      "b: \n",
      " -52.08341025448668\n",
      "\n",
      "w * X + b: \n",
      " [[-52.08341025]\n",
      " [-33.38534072]\n",
      " [-14.68727118]\n",
      " [  4.01079835]\n",
      " [ 22.70886789]\n",
      " [ 41.40693742]\n",
      " [ 60.10500696]\n",
      " [ 78.80307649]\n",
      " [ 97.50114603]\n",
      " [116.19921557]\n",
      " [134.8972851 ]\n",
      " [153.59535464]\n",
      " [172.29342417]\n",
      " [190.99149371]\n",
      " [209.68956324]\n",
      " [228.38763278]\n",
      " [247.08570232]\n",
      " [265.78377185]\n",
      " [284.48184139]\n",
      " [303.17991092]]\n"
     ]
    },
    {
     "data": {
      "image/png": "[encoded data removed]",
      "text/plain": [
       "<Figure size 432x288 with 1 Axes>"
      ]
     },
     "metadata": {},
     "output_type": "display_data"
    }
   ],
   "source": [
    "# create target data\n",
    "x = np.arange(0, 20, 1)\n",
    "y = 1 + x**2\n",
    "X = x.reshape(-1, 1)\n",
    "\n",
    "model_w, model_b = run_gradient_descent_feng(X, y, iterations=1000, alpha=1e-2)\n",
    "\n",
    "print()\n",
    "print('x: \\n', x)\n",
    "print()\n",
    "print('y (= 1 + x^2): \\n', y)\n",
    "print()\n",
    "print('X: \\n', X)\n",
    "print()\n",
    "print('w: \\n', model_w)\n",
    "print()\n",
    "print('b: \\n', model_b)\n",
    "print()\n",
    "print('w * X + b: \\n', model_w*X + model_b)\n",
    "\n",
    "plt.scatter(x, y, marker='x', c='r', label=\"Actual Value\")\n",
    "plt.plot(x, np.dot(X,model_w) + model_b, label=\"Predicted Value\")\n",
    "plt.title(\"no feature engineering\")\n",
    "plt.xlabel(\"X\")\n",
    "plt.ylabel(\"y\")\n",
    "plt.legend(loc='best')\n",
    "\n",
    "plt.show()"
   ]
  },
  {
   "cell_type": "markdown",
   "id": "79e2e6b1",
   "metadata": {
    "pycharm": {
     "name": "#%% md\n"
    }
   },
   "source": [
    "Well, as expected, not a great fit. What is needed is something like $y= w x^2 + b$, or a **polynomial feature**.\n",
    "To accomplish this, we can modify the *input data* to *engineer* the needed features. If we swap the original data with a version that squares the $x$ value, then we can achieve $y= w x^2 + b$. Let's try it. Swap `X` for `X**2` below:"
   ]
  },
  {
   "cell_type": "code",
   "execution_count": 3,
   "id": "651e31a7",
   "metadata": {
    "pycharm": {
     "name": "#%%\n"
    }
   },
   "outputs": [],
   "source": [
    "# create target data\n",
    "x = np.arange(0, 20, 1)\n",
    "y = 1 + x**2\n",
    "\n",
    "# Engineer features \n",
    "X = x**2      #<-- added engineered feature"
   ]
  },
  {
   "cell_type": "code",
   "execution_count": 4,
   "id": "d858b21b",
   "metadata": {
    "pycharm": {
     "name": "#%%\n"
    }
   },
   "outputs": [
    {
     "name": "stdout",
     "output_type": "stream",
     "text": [
      "Iteration         0, Cost: 7.32922e+03\n",
      "Iteration      1000, Cost: 2.24844e-01\n",
      "Iteration      2000, Cost: 2.22795e-01\n",
      "Iteration      3000, Cost: 2.20764e-01\n",
      "Iteration      4000, Cost: 2.18752e-01\n",
      "Iteration      5000, Cost: 2.16758e-01\n",
      "Iteration      6000, Cost: 2.14782e-01\n",
      "Iteration      7000, Cost: 2.12824e-01\n",
      "Iteration      8000, Cost: 2.10884e-01\n",
      "Iteration      9000, Cost: 2.08962e-01\n",
      "w,b found by gradient descent: w: [1.00417494], b: 0.0490\n"
     ]
    },
    {
     "data": {
      "image/png": "[encoded data removed]",
      "text/plain": [
       "<Figure size 432x288 with 1 Axes>"
      ]
     },
     "metadata": {},
     "output_type": "display_data"
    }
   ],
   "source": [
    "X = X.reshape(-1, 1)  #X should be a 2-D Matrix\n",
    "model_w, model_b = run_gradient_descent_feng(X, y, iterations=10000, alpha=1e-5)\n",
    "\n",
    "plt.scatter(x, y, marker='x', c='r', label=\"Actual Value\")\n",
    "plt.plot(x, np.dot(X,model_w) + model_b, label=\"Predicted Value\")\n",
    "plt.title(\"Added x**2 feature\")\n",
    "plt.xlabel(\"x\")\n",
    "plt.ylabel(\"y\")\n",
    "plt.legend(loc='best')\n",
    "plt.show()"
   ]
  },
  {
   "cell_type": "markdown",
   "id": "bdaec78e",
   "metadata": {
    "pycharm": {
     "name": "#%% md\n"
    }
   },
   "source": [
    "Great! near perfect fit. Notice the values of $w$ and $b$ printed right above the graph: `w,b found by gradient descent: w: [1.], b: 0.0490`. Gradient descent modified our initial values of $w,b$ to be $(1.0,0.049)$ or a model of $y=1*x_0^2+0.049$, very close to our target of $y=1*x_0^2+1$. If we ran it longer, it could be a better match. "
   ]
  },
  {
   "cell_type": "markdown",
   "id": "1a5d214e",
   "metadata": {
    "pycharm": {
     "name": "#%% md\n"
    }
   },
   "source": [
    "### Selecting Features\n",
    "<a name='GDF'></a>\n",
    "Above, we knew that an $x^2$ term was required. It may not always be obvious which features are required. One could add a variety of potential features to try and find the most useful. For example, what if we had instead tried : $y=w_0x_0 + w_1x_1^2 + w_2x_2^3+b$ ? \n",
    "\n",
    "Run the next cells. "
   ]
  },
  {
   "cell_type": "code",
   "execution_count": 5,
   "id": "f7b9419a",
   "metadata": {
    "pycharm": {
     "name": "#%%\n"
    }
   },
   "outputs": [
    {
     "name": "stdout",
     "output_type": "stream",
     "text": [
      "x: \n",
      " [ 0  1  2  3  4  5  6  7  8  9 10 11 12 13 14 15 16 17 18 19]\n",
      "\n",
      "x^2: \n",
      " [  0   1   4   9  16  25  36  49  64  81 100 121 144 169 196 225 256 289\n",
      " 324 361]\n",
      "\n",
      "x^3: \n",
      " [   0    1    8   27   64  125  216  343  512  729 1000 1331 1728 2197\n",
      " 2744 3375 4096 4913 5832 6859]\n",
      "\n",
      "X: \n",
      " [[   0    0    0]\n",
      " [   1    1    1]\n",
      " [   2    4    8]\n",
      " [   3    9   27]\n",
      " [   4   16   64]\n",
      " [   5   25  125]\n",
      " [   6   36  216]\n",
      " [   7   49  343]\n",
      " [   8   64  512]\n",
      " [   9   81  729]\n",
      " [  10  100 1000]\n",
      " [  11  121 1331]\n",
      " [  12  144 1728]\n",
      " [  13  169 2197]\n",
      " [  14  196 2744]\n",
      " [  15  225 3375]\n",
      " [  16  256 4096]\n",
      " [  17  289 4913]\n",
      " [  18  324 5832]\n",
      " [  19  361 6859]]\n"
     ]
    }
   ],
   "source": [
    "# create target data\n",
    "x = np.arange(0, 20, 1)\n",
    "y = x**2\n",
    "\n",
    "# engineer features .\n",
    "X = np.c_[x, x**2, x**3]   #<-- added engineered feature\n",
    "\n",
    "print('x: \\n', x)\n",
    "print()\n",
    "print('x^2: \\n', x**2)\n",
    "print()\n",
    "print('x^3: \\n', x**3)\n",
    "print()\n",
    "print('X: \\n', X)"
   ]
  },
  {
   "cell_type": "code",
   "execution_count": 6,
   "id": "a359bdba",
   "metadata": {
    "pycharm": {
     "name": "#%%\n"
    }
   },
   "outputs": [
    {
     "name": "stdout",
     "output_type": "stream",
     "text": [
      "Iteration         0, Cost: 1.14029e+03\n",
      "Iteration      1000, Cost: 3.28539e+02\n",
      "Iteration      2000, Cost: 2.80443e+02\n",
      "Iteration      3000, Cost: 2.39389e+02\n",
      "Iteration      4000, Cost: 2.04344e+02\n",
      "Iteration      5000, Cost: 1.74430e+02\n",
      "Iteration      6000, Cost: 1.48896e+02\n",
      "Iteration      7000, Cost: 1.27100e+02\n",
      "Iteration      8000, Cost: 1.08495e+02\n",
      "Iteration      9000, Cost: 9.26132e+01\n",
      "w,b found by gradient descent: w: [0.08237526 0.53552137 0.02752216], b: 0.0106\n"
     ]
    },
    {
     "data": {
      "image/png": "[encoded data removed]",
      "text/plain": [
       "<Figure size 432x288 with 1 Axes>"
      ]
     },
     "metadata": {},
     "output_type": "display_data"
    }
   ],
   "source": [
    "model_w, model_b = run_gradient_descent_feng(X, y, iterations=10000, alpha=1e-7)\n",
    "\n",
    "plt.scatter(x, y, marker='x', c='r', label=\"Actual Value\")\n",
    "plt.plot(x, np.dot(X,model_w) + model_b, label=\"Predicted Value\")\n",
    "plt.title(\"x, x**2, x**3 features\")\n",
    "plt.xlabel(\"x\")\n",
    "plt.ylabel(\"y\")\n",
    "plt.legend(loc=\"best\")\n",
    "plt.show()"
   ]
  },
  {
   "cell_type": "markdown",
   "id": "6ac512e5",
   "metadata": {
    "pycharm": {
     "name": "#%% md\n"
    }
   },
   "source": [
    "Note the value of $\\mathbf{w}$, `[0.08 0.54 0.03]` and $b$ is `0.0106`.This implies the model after fitting/training is:\n",
    "$$ 0.08x + 0.54x^2 + 0.03x^3 + 0.0106 $$\n",
    "Gradient descent has emphasized the data that is the best fit to the $x^2$ data by increasing the $w_1$ term relative to the others. If we were to run for a very long time, it would continue to reduce the impact of the other terms. \n",
    ">Gradient descent is picking the 'correct' features for us by emphasizing its associated parameter\n",
    "\n",
    "Let's review this idea:\n",
    "- Intially, the features were re-scaled so they are comparable to each other\n",
    "- less weight value implies less important/correct feature, and in extreme, when the weight becomes zero or very close to zero, the associated feature useful in fitting the model to the data.\n",
    "- above, after fitting, the weight associated with the $x^2$ feature is much larger than the weights for $x$ or $x^3$ as it is the most useful in fitting the data. "
   ]
  },
  {
   "cell_type": "markdown",
   "id": "44d1048b",
   "metadata": {
    "pycharm": {
     "name": "#%% md\n"
    }
   },
   "source": [
    "### An Alternate View\n",
    "Above, polynomial features were chosen based on how well they matched the target data. Another way to think about this is to note that we are still using linear regression once we have created new features. Given that, the best features will be linear relative to the target. This is best understood with an example. "
   ]
  },
  {
   "cell_type": "code",
   "execution_count": 7,
   "id": "6488c052",
   "metadata": {
    "pycharm": {
     "name": "#%%\n"
    }
   },
   "outputs": [],
   "source": [
    "# create target data\n",
    "x = np.arange(0, 20, 1)\n",
    "y = x**2\n",
    "\n",
    "# engineer features .\n",
    "X = np.c_[x, x**2, x**3]   #<-- added engineered feature\n",
    "X_features = ['x', r'$x^{2}$', r'$x^{3}$']"
   ]
  },
  {
   "cell_type": "code",
   "execution_count": 8,
   "id": "7ac92c56",
   "metadata": {
    "pycharm": {
     "name": "#%%\n"
    }
   },
   "outputs": [
    {
     "data": {
      "image/png": "[encoded data removed]",
      "text/plain": [
       "<Figure size 864x216 with 3 Axes>"
      ]
     },
     "metadata": {},
     "output_type": "display_data"
    }
   ],
   "source": [
    "fig, ax = plt.subplots(1, 3, figsize=(12, 3), sharey=True)\n",
    "for i in range(len(ax)):\n",
    "    ax[i].scatter(X[:,i],y)\n",
    "    ax[i].set_xlabel(X_features[i])\n",
    "\n",
    "ax[0].set_ylabel(\"y\")\n",
    "plt.show()"
   ]
  },
  {
   "cell_type": "markdown",
   "id": "0eaa15fe",
   "metadata": {
    "pycharm": {
     "name": "#%% md\n"
    }
   },
   "source": [
    "Above, it is clear that the $x^2$ feature mapped against the target value $y$ is linear. Linear regression can then easily generate a model using that feature."
   ]
  },
  {
   "cell_type": "markdown",
   "id": "22e252c9",
   "metadata": {
    "pycharm": {
     "name": "#%% md\n"
    }
   },
   "source": [
    "### Scaling features\n",
    "As described in the last notebook, if the data set has features with significantly different scales, one should apply feature scaling to speed gradient descent. In the example above, there is $x$, $x^2$ and $x^3$ which will naturally have very different scales. Let's apply Z-score normalization to our example.\n",
    "\n",
    ">**Reminder:** Z-score normalization formula:\n",
    "$$x^{(i)}_j = \\dfrac{x^{(i)}_j - \\mu_j}{\\sigma_j}$$"
   ]
  },
  {
   "cell_type": "code",
   "execution_count": 9,
   "id": "a8bdc4b8",
   "metadata": {
    "pycharm": {
     "name": "#%%\n"
    }
   },
   "outputs": [
    {
     "name": "stdout",
     "output_type": "stream",
     "text": [
      "X value before normalization: \n",
      " [[   0    0    0]\n",
      " [   1    1    1]\n",
      " [   2    4    8]\n",
      " [   3    9   27]\n",
      " [   4   16   64]\n",
      " [   5   25  125]\n",
      " [   6   36  216]\n",
      " [   7   49  343]\n",
      " [   8   64  512]\n",
      " [   9   81  729]\n",
      " [  10  100 1000]\n",
      " [  11  121 1331]\n",
      " [  12  144 1728]\n",
      " [  13  169 2197]\n",
      " [  14  196 2744]\n",
      " [  15  225 3375]\n",
      " [  16  256 4096]\n",
      " [  17  289 4913]\n",
      " [  18  324 5832]\n",
      " [  19  361 6859]]\n",
      "\n",
      "X value after normalization: \n",
      " [[-1.64750894 -1.08815641 -0.86396619]\n",
      " [-1.47408695 -1.07934543 -0.86348754]\n",
      " [-1.30066495 -1.05291248 -0.86013698]\n",
      " [-1.12724296 -1.00885756 -0.8510426 ]\n",
      " [-0.95382097 -0.94718068 -0.83333249]\n",
      " [-0.78039897 -0.86788183 -0.80413474]\n",
      " [-0.60697698 -0.77096102 -0.76057744]\n",
      " [-0.43355498 -0.65641824 -0.69978868]\n",
      " [-0.26013299 -0.52425349 -0.61889656]\n",
      " [-0.086711   -0.37446678 -0.51502915]\n",
      " [ 0.086711   -0.2070581  -0.38531456]\n",
      " [ 0.26013299 -0.02202746 -0.22688087]\n",
      " [ 0.43355498  0.18062515 -0.03685618]\n",
      " [ 0.60697698  0.40089973  0.18763144]\n",
      " [ 0.78039897  0.63879627  0.44945388]\n",
      " [ 0.95382097  0.89431478  0.75148306]\n",
      " [ 1.12724296  1.16745526  1.09659088]\n",
      " [ 1.30066495  1.4582177   1.48764927]\n",
      " [ 1.47408695  1.76660211  1.92753011]\n",
      " [ 1.64750894  2.09260848  2.41910534]]\n"
     ]
    }
   ],
   "source": [
    "# create target data\n",
    "x = np.arange(0,20,1)\n",
    "X = np.c_[x, x**2, x**3]\n",
    "print('X value before normalization: \\n', X)\n",
    "\n",
    "print()\n",
    "\n",
    "# add mean_normalization \n",
    "X = zscore_normalize_features(X)\n",
    "print('X value after normalization: \\n', X)"
   ]
  },
  {
   "cell_type": "markdown",
   "id": "8ddc5ae0",
   "metadata": {
    "pycharm": {
     "name": "#%% md\n"
    }
   },
   "source": [
    "Now we can try again with a more aggressive value of alpha:"
   ]
  },
  {
   "cell_type": "code",
   "execution_count": 10,
   "id": "d2cac74e",
   "metadata": {
    "pycharm": {
     "name": "#%%\n"
    }
   },
   "outputs": [
    {
     "name": "stdout",
     "output_type": "stream",
     "text": [
      "Iteration         0, Cost: 9.42147e+03\n",
      "Iteration      1000, Cost: 4.21521e+00\n",
      "Iteration      2000, Cost: 3.23649e+00\n",
      "Iteration      3000, Cost: 2.48501e+00\n",
      "Iteration      4000, Cost: 1.90802e+00\n",
      "Iteration      5000, Cost: 1.46500e+00\n",
      "Iteration      6000, Cost: 1.12484e+00\n",
      "Iteration      7000, Cost: 8.63665e-01\n",
      "Iteration      8000, Cost: 6.63131e-01\n",
      "Iteration      9000, Cost: 5.09160e-01\n",
      "w,b found by gradient descent: w: [ 7.67449373 93.94625791 12.28868959], b: 123.5000\n"
     ]
    },
    {
     "data": {
      "image/png": "[encoded data removed]",
      "text/plain": [
       "<Figure size 432x288 with 1 Axes>"
      ]
     },
     "metadata": {},
     "output_type": "display_data"
    }
   ],
   "source": [
    "y = x**2\n",
    "\n",
    "model_w, model_b = run_gradient_descent_feng(X, y, iterations=10000, alpha=1e-1)\n",
    "\n",
    "plt.scatter(x, y, marker='x', c='r', label=\"Actual Value\")\n",
    "plt.plot(x, np.dot(X,model_w) + model_b, label=\"Predicted Value\")\n",
    "plt.title(\"Normalized x x**2, x**3 feature\")\n",
    "plt.xlabel(\"x\")\n",
    "plt.ylabel(\"y\")\n",
    "plt.legend(loc=\"best\")\n",
    "plt.show()"
   ]
  },
  {
   "cell_type": "markdown",
   "id": "e63298df",
   "metadata": {
    "pycharm": {
     "name": "#%% md\n"
    }
   },
   "source": [
    "Feature scaling allows this to converge much faster.   \n",
    "Note again the values of $\\mathbf{w}$. The $w_1$ term, which is the $x^2$ term is the most emphasized. Gradient descent has all but eliminated the $x^3$ term."
   ]
  },
  {
   "cell_type": "markdown",
   "id": "5569712a",
   "metadata": {
    "pycharm": {
     "name": "#%% md\n"
    }
   },
   "source": [
    "### Complex Functions\n",
    "With feature engineering, even quite complex functions can be modeled:"
   ]
  },
  {
   "cell_type": "code",
   "execution_count": 11,
   "id": "7c5f49c6",
   "metadata": {
    "pycharm": {
     "name": "#%%\n"
    }
   },
   "outputs": [
    {
     "name": "stdout",
     "output_type": "stream",
     "text": [
      "Iteration         0, Cost: 2.24887e-01\n",
      "Iteration    100000, Cost: 2.31061e-02\n",
      "Iteration    200000, Cost: 1.83619e-02\n",
      "Iteration    300000, Cost: 1.47950e-02\n",
      "Iteration    400000, Cost: 1.21114e-02\n",
      "Iteration    500000, Cost: 1.00914e-02\n",
      "Iteration    600000, Cost: 8.57025e-03\n",
      "Iteration    700000, Cost: 7.42385e-03\n",
      "Iteration    800000, Cost: 6.55908e-03\n",
      "Iteration    900000, Cost: 5.90594e-03\n",
      "w,b found by gradient descent: w: [-1.61035138e+00 -1.00624795e+01  3.00029328e+01 -6.91665020e-01\n",
      " -2.36908018e+01 -1.51363834e+01  2.08722991e+01 -2.29331209e-03\n",
      " -4.68700607e-03  5.51048134e-02  1.06934475e-01 -2.52628726e-02\n",
      "  6.48762638e-02], b: -0.0073\n"
     ]
    },
    {
     "data": {
      "image/png": "[encoded data removed]",
      "text/plain": [
       "<Figure size 432x288 with 1 Axes>"
      ]
     },
     "metadata": {},
     "output_type": "display_data"
    }
   ],
   "source": [
    "x = np.arange(0,20,1)\n",
    "y = np.cos(x/2)\n",
    "\n",
    "X = np.c_[x, x**2, x**3, x**4, x**5, x**6, x**7, x**8, x**9, x**10, x**11, x**12, x**13]\n",
    "X = zscore_normalize_features(X) \n",
    "\n",
    "model_w, model_b = run_gradient_descent_feng(X, y, iterations=1000000, alpha=1e-1)\n",
    "\n",
    "plt.scatter(x, y, marker='x', c='r', label=\"Actual Value\")\n",
    "plt.plot(x, np.dot(X, model_w) + model_b, label=\"Predicted Value\")\n",
    "plt.title(\"Normalized x x**2, x**3 feature\")\n",
    "plt.xlabel(\"x\")\n",
    "plt.ylabel(\"y\")\n",
    "plt.legend()\n",
    "plt.show()"
   ]
  },
  {
   "cell_type": "markdown",
   "id": "1c4ace2b",
   "metadata": {
    "pycharm": {
     "name": "#%% md\n"
    }
   },
   "source": [
    "In this notebook we:\n",
    "- learned how linear regression can model complex, even highly non-linear functions using feature engineering\n",
    "- recognized that it is important to apply feature scaling when doing feature engineering"
   ]
  },
  {
   "cell_type": "code",
   "execution_count": null,
   "id": "27d73abc",
   "metadata": {
    "pycharm": {
     "name": "#%%\n"
    }
   },
   "outputs": [],
   "source": []
  }
 ],
 "metadata": {
  "kernelspec": {
   "display_name": "Python 3 (ipykernel)",
   "language": "python",
   "name": "python3"
  },
  "language_info": {
   "codemirror_mode": {
    "name": "ipython",
    "version": 3
   },
   "file_extension": ".py",
   "mimetype": "text/x-python",
   "name": "python",
   "nbconvert_exporter": "python",
   "pygments_lexer": "ipython3",
   "version": "3.9.12"
  },
  "toc-autonumbering": false
 },
 "nbformat": 4,
 "nbformat_minor": 5
}
