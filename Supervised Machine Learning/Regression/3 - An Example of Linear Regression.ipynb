{
 "cells": [
  {
   "cell_type": "markdown",
   "id": "775bcc91",
   "metadata": {},
   "source": [
    "# Linear Regression"
   ]
  },
  {
   "cell_type": "code",
   "execution_count": 1,
   "id": "40276fc9",
   "metadata": {},
   "outputs": [],
   "source": [
    "import numpy as np\n",
    "import matplotlib.pyplot as plt\n",
    "from scipy import stats"
   ]
  },
  {
   "cell_type": "code",
   "execution_count": 2,
   "id": "8a24e71e",
   "metadata": {},
   "outputs": [],
   "source": [
    "# Age of cars\n",
    "x = [5,7,8,7,2,17,2,9,4,11,12,9,6]\n",
    "# Speed of cars\n",
    "y = [99,86,87,88,111,86,103,87,94,78,77,85,86]"
   ]
  },
  {
   "cell_type": "code",
   "execution_count": 3,
   "id": "24cc003e",
   "metadata": {},
   "outputs": [
    {
     "data": {
      "image/png": "[encoded data removed]",
      "text/plain": [
       "<Figure size 432x288 with 1 Axes>"
      ]
     },
     "metadata": {
      "needs_background": "light"
     },
     "output_type": "display_data"
    }
   ],
   "source": [
    "plt.scatter(x, y, label='Data Point')\n",
    "\n",
    "# Plot setting\n",
    "plt.xlabel('Age')\n",
    "plt.ylabel('Speed')\n",
    "plt.grid()\n",
    "plt.legend(loc='best')\n",
    "\n",
    "plt.show()"
   ]
  },
  {
   "cell_type": "code",
   "execution_count": 4,
   "id": "adf37be4",
   "metadata": {},
   "outputs": [],
   "source": [
    "# Execute a method that returns some important key values of Linear Regression\n",
    "slope, intercept, r, p, std_err = stats.linregress(x, y)\n",
    "\n",
    "def myfunc(x):\n",
    "    return slope * x + intercept\n",
    "\n",
    "# Run each value of the x array through the function. This will result in a new array with new values for the y-axis\n",
    "mymodel = list(map(myfunc, x))"
   ]
  },
  {
   "cell_type": "markdown",
   "id": "60f562f0",
   "metadata": {},
   "source": [
    "\\begin{align*}\n",
    "\\text{r} &= \\frac{\\left<\\left(x-\\bar{x}\\right)\\times\\left(y-\\bar{y}\\right)\\right>}{\\sqrt{\\left<\\left(x-\\bar{x}\\right)^{2}\\right>\\times\\left<\\left(y-\\bar{y}\\right)^2\\right>}} \\quad \\text{(The Pearson correlation coefficient. The square of rvalue is equal to the coefficient of determination.)}\\\\ \\\\\n",
    "\\text{std_err} &= \\sqrt{\\frac{1-r^{2}}{n-2}\\frac{\\left<\\left(y-\\bar{y}\\right)^{2}\\right>}{\\left<\\left(x-\\bar{x}\\right)^{2}\\right>}} \\quad (\\text{Standard error of the estimated slope (gradient), under the assumption of residual normality.})\n",
    "\\end{align*}"
   ]
  },
  {
   "cell_type": "code",
   "execution_count": 5,
   "id": "5ac7f2a7",
   "metadata": {},
   "outputs": [],
   "source": [
    "# x_mean = np.mean(x)\n",
    "# y_mean = np.mean(y)\n",
    "# ssxm = np.mean((np.array(x) - x_mean)**2)\n",
    "# ssym = np.mean((np.array(y) - y_mean)**2)\n",
    "# ssxym = np.mean((np.array(x) - x_mean)*(np.array(y) - y_mean))\n",
    "# r = ssxym / np.sqrt(ssxm * ssym)\n",
    "# slope_stderr = np.sqrt((1 - r**2) * ssym / (ssxm * (len(x)-2)))\n",
    "\n",
    "# print(r)\n",
    "# print(slope_stderr)"
   ]
  },
  {
   "cell_type": "code",
   "execution_count": 6,
   "id": "ff569b71",
   "metadata": {},
   "outputs": [
    {
     "data": {
      "image/png": "[encoded data removed]",
      "text/plain": [
       "<Figure size 432x288 with 1 Axes>"
      ]
     },
     "metadata": {
      "needs_background": "light"
     },
     "output_type": "display_data"
    }
   ],
   "source": [
    "plt.scatter(x, y, label='Data Point')\n",
    "# Draw the line of linear regression\n",
    "plt.plot(x, mymodel, label='Model')\n",
    "\n",
    "# Plot setting\n",
    "plt.xlabel('Age')\n",
    "plt.ylabel('Speed')\n",
    "plt.grid()\n",
    "plt.legend(loc='best')\n",
    "\n",
    "plt.show()"
   ]
  },
  {
   "cell_type": "markdown",
   "id": "86f3b3aa",
   "metadata": {},
   "source": [
    "## R for Relationship"
   ]
  },
  {
   "cell_type": "markdown",
   "id": "6c493237",
   "metadata": {},
   "source": [
    "It is important to know how the relationship between the values of the x-axis and the values of the y-axis is, if there are no relationship the linear regression can not be used to predict anything.\n",
    "\n",
    "This relationship - `the coefficient of correlation` - is called `r`.\n",
    "\n",
    "The r value ranges from $-1$ to $1$, where $0$ means no relationship, and $1$ (and $-1$) means $100\\%$ related."
   ]
  },
  {
   "cell_type": "code",
   "execution_count": 7,
   "id": "4713f292",
   "metadata": {},
   "outputs": [
    {
     "name": "stdout",
     "output_type": "stream",
     "text": [
      "-0.758591524376155\n"
     ]
    }
   ],
   "source": [
    "print(r)"
   ]
  },
  {
   "cell_type": "markdown",
   "id": "fec75c30",
   "metadata": {},
   "source": [
    "$\\textbf{Note:}$ The result $-0.76$ shows that there is a relationship, not perfect, but it indicates that we could use linear regression in future predictions."
   ]
  },
  {
   "cell_type": "markdown",
   "id": "77f2ec9f",
   "metadata": {},
   "source": [
    "## Predict Future Values"
   ]
  },
  {
   "cell_type": "markdown",
   "id": "fc7faff4",
   "metadata": {},
   "source": [
    "Let us try to predict the speed of a $10$ years old car.\n",
    "\n",
    "To do so, we need the same $\\textit{myfunc()}$ function from the example above:"
   ]
  },
  {
   "cell_type": "code",
   "execution_count": 8,
   "id": "6455b950",
   "metadata": {},
   "outputs": [
    {
     "name": "stdout",
     "output_type": "stream",
     "text": [
      "85.59308314937454\n"
     ]
    }
   ],
   "source": [
    "print(myfunc(10))"
   ]
  },
  {
   "cell_type": "markdown",
   "id": "3e835471",
   "metadata": {},
   "source": [
    "## Bad Fit?"
   ]
  },
  {
   "cell_type": "markdown",
   "id": "fa82d606",
   "metadata": {},
   "source": [
    "Let us create an example where linear regression would not be the best method to predict future values."
   ]
  },
  {
   "cell_type": "code",
   "execution_count": 9,
   "id": "a7e2943a",
   "metadata": {},
   "outputs": [],
   "source": [
    "x = [89,43,36,36,95,10,66,34,38,20,26,29,48,64,6,5,36,66,72,40]\n",
    "y = [21,46,3,35,67,95,53,72,58,10,26,34,90,33,38,20,56,2,47,15]"
   ]
  },
  {
   "cell_type": "code",
   "execution_count": 10,
   "id": "b6b0bb10",
   "metadata": {},
   "outputs": [
    {
     "data": {
      "image/png": "[encoded data removed]",
      "text/plain": [
       "<Figure size 432x288 with 1 Axes>"
      ]
     },
     "metadata": {
      "needs_background": "light"
     },
     "output_type": "display_data"
    }
   ],
   "source": [
    "plt.scatter(x, y, label='Data Point')\n",
    "\n",
    "# Plot setting\n",
    "plt.grid()\n",
    "plt.legend(loc='best')\n",
    "\n",
    "plt.show()"
   ]
  },
  {
   "cell_type": "code",
   "execution_count": 11,
   "id": "9894d4be",
   "metadata": {},
   "outputs": [],
   "source": [
    "slope, intercept, r, p, std_err = stats.linregress(x, y)\n",
    "\n",
    "def myfunc(x):\n",
    "    return slope * x + intercept\n",
    "\n",
    "mymodel = list(map(myfunc, x))"
   ]
  },
  {
   "cell_type": "code",
   "execution_count": 12,
   "id": "27eecd23",
   "metadata": {},
   "outputs": [
    {
     "data": {
      "image/png": "[encoded data removed]",
      "text/plain": [
       "<Figure size 432x288 with 1 Axes>"
      ]
     },
     "metadata": {
      "needs_background": "light"
     },
     "output_type": "display_data"
    }
   ],
   "source": [
    "plt.scatter(x, y, label='Data Point')\n",
    "plt.plot(x, mymodel, label='Model')\n",
    "\n",
    "# Plot setting\n",
    "plt.xlabel('Age')\n",
    "plt.ylabel('Speed')\n",
    "plt.grid()\n",
    "plt.legend(loc='best')\n",
    "\n",
    "plt.show()"
   ]
  },
  {
   "cell_type": "code",
   "execution_count": 13,
   "id": "e876aee1",
   "metadata": {},
   "outputs": [
    {
     "name": "stdout",
     "output_type": "stream",
     "text": [
      "0.01331814154297491\n"
     ]
    }
   ],
   "source": [
    "print(r)"
   ]
  },
  {
   "cell_type": "markdown",
   "id": "c2c50fbe",
   "metadata": {},
   "source": [
    "$0.013$ indicates a very bad relationship, and tells us that this data set is not suitable for linear regression."
   ]
  },
  {
   "cell_type": "code",
   "execution_count": null,
   "id": "46e6e07f",
   "metadata": {},
   "outputs": [],
   "source": []
  }
 ],
 "metadata": {
  "kernelspec": {
   "display_name": "Python 3 (ipykernel)",
   "language": "python",
   "name": "python3"
  },
  "language_info": {
   "codemirror_mode": {
    "name": "ipython",
    "version": 3
   },
   "file_extension": ".py",
   "mimetype": "text/x-python",
   "name": "python",
   "nbconvert_exporter": "python",
   "pygments_lexer": "ipython3",
   "version": "3.9.12"
  }
 },
 "nbformat": 4,
 "nbformat_minor": 5
}
