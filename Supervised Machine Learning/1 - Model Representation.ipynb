{
 "cells": [
  {
   "cell_type": "markdown",
   "id": "3a28ce7d",
   "metadata": {},
   "source": [
    "# Model Representation"
   ]
  },
  {
   "cell_type": "markdown",
   "id": "e9948a4e",
   "metadata": {},
   "source": [
    "## Goals"
   ]
  },
  {
   "cell_type": "markdown",
   "id": "6c2fd85f",
   "metadata": {},
   "source": [
    "In this notebook you will:\n",
    "- Learn to implement the model $f_{w,b}$ for linear regression with one variable"
   ]
  },
  {
   "cell_type": "markdown",
   "id": "4e5ffe47",
   "metadata": {},
   "source": [
    "## Notation"
   ]
  },
  {
   "cell_type": "markdown",
   "id": "3a82056e",
   "metadata": {},
   "source": [
    "Here is a summary of some of the notation you will encounter.  \n",
    "\n",
    "|General <img width=70/> <br />  Notation  <img width=70/> | Description<img width=350/>| Python (if applicable) |\n",
    "|: ------------|: ------------------------------------------------------------||\n",
    "| $a$ | scalar, non bold                                                      ||\n",
    "| $\\mathbf{a}$ | vector, bold                                                      ||\n",
    "| **Regression** |         |    |     |\n",
    "|  $\\mathbf{x}$ | Training Example feature values (in this notebook - Size (1000 sqft))  | `x_train` |   \n",
    "|  $\\mathbf{y}$  | Training Example  targets (in this notebook Price (1000s of dollars)).  | `y_train` \n",
    "|  $x^{(i)}$, $y^{(i)}$ | $i_{th}$Training Example | `x_i`, `y_i`|\n",
    "| m | Number of training examples | `m`|\n",
    "|  $w$  |  parameter: weight,                                 | `w`    |\n",
    "|  $b$           |  parameter: bias                                           | `b`    |     \n",
    "| $f_{w,b}(x^{(i)})$ | The result of the model evaluation at $x^{(i)}$ parameterized by $w,b$: $f_{w,b}(x^{(i)}) = wx^{(i)}+b$  | `f_wb` | \n"
   ]
  },
  {
   "cell_type": "markdown",
   "id": "60c5171f",
   "metadata": {},
   "source": [
    "## Tools"
   ]
  },
  {
   "cell_type": "markdown",
   "id": "1bf17475",
   "metadata": {},
   "source": [
    "In this notebook you will make use of: \n",
    "- NumPy, a popular library for scientific computing\n",
    "- Matplotlib, a popular library for plotting data"
   ]
  },
  {
   "cell_type": "code",
   "execution_count": 1,
   "id": "b0a259dc",
   "metadata": {},
   "outputs": [],
   "source": [
    "import numpy as np\n",
    "import matplotlib.pyplot as plt"
   ]
  },
  {
   "cell_type": "markdown",
   "id": "83fa4de9",
   "metadata": {},
   "source": [
    "## Problem Statement"
   ]
  },
  {
   "cell_type": "markdown",
   "id": "46d8ec57",
   "metadata": {},
   "source": [
    "In this notebook, you will use the motivating example of housing price prediction.  \n",
    "This notebook will use a simple data set with only two data points - a house with $1000$ square feet(sqft) sold for $\\$300,000$ and a house with $2000$ square feet sold for $\\$500,000$. These two points will constitute our *data or training set*. In this notebook, the units of size are $1000$ sqft and the units of price are $1000$s of dollars.\n",
    "\n",
    "| Size ($1000$ sqft)     | Price ($1000$s of dollars) |\n",
    "| -------------------| ------------------------ |\n",
    "| $1.0$               | $300$                      |\n",
    "| $2.0$               | $500$                      |\n",
    "\n",
    "You would like to fit a linear regression model (shown above as the blue straight line) through these two points, so you can then predict price for other houses - say, a house with $1200$ sqft."
   ]
  },
  {
   "cell_type": "markdown",
   "id": "46099a1b",
   "metadata": {},
   "source": [
    "Please run the following code cell to create your `x_train` and `y_train` variables. The data is stored in one-dimensional NumPy arrays."
   ]
  },
  {
   "cell_type": "code",
   "execution_count": 3,
   "id": "2c964a00",
   "metadata": {},
   "outputs": [
    {
     "name": "stdout",
     "output_type": "stream",
     "text": [
      "x_train = [1. 2.]\n",
      "y_train = [300. 500.]\n"
     ]
    }
   ],
   "source": [
    "x_train = np.array([1.0, 2.0])    # Input variable (size in 1000 square feet)\n",
    "y_train = np.array([300.0, 500.0])    # Target (price in 1000s of dollars)\n",
    "\n",
    "print(\"x_train = {}\".format(x_train))\n",
    "print(\"y_train = {}\".format(y_train))"
   ]
  },
  {
   "cell_type": "markdown",
   "id": "2d7f4837",
   "metadata": {},
   "source": [
    ">**Note:** From now, we will frequently utilize the Python string `format()` method output formatting described [here](https://docs.python.org/3/tutorial/inputoutput.html#the-string-format-method) when printing. The content of the curly braces is evaluated when producing the output."
   ]
  },
  {
   "cell_type": "markdown",
   "id": "0189e916",
   "metadata": {},
   "source": [
    "### Number of training examples `m`"
   ]
  },
  {
   "cell_type": "markdown",
   "id": "d95b763a",
   "metadata": {},
   "source": [
    "You will use `m` to denote the number of training examples. Numpy arrays have a `.shape` parameter. `x_train.shape` returns a python tuple with an entry for each dimension. `x_train.shape[0]` is the length of the array and number of examples as shown below."
   ]
  },
  {
   "cell_type": "code",
   "execution_count": 5,
   "id": "d3801626",
   "metadata": {},
   "outputs": [
    {
     "name": "stdout",
     "output_type": "stream",
     "text": [
      "x_train.shape: (2,)\n",
      "Number of training examples is: 2\n"
     ]
    }
   ],
   "source": [
    "print(\"x_train.shape: {}\".format(x_train.shape))\n",
    "\n",
    "m = x_train.shape[0]    # Number of training examples\n",
    "print(\"Number of training examples is: {}\".format(m))"
   ]
  },
  {
   "cell_type": "code",
   "execution_count": 6,
   "id": "b1168275",
   "metadata": {},
   "outputs": [
    {
     "name": "stdout",
     "output_type": "stream",
     "text": [
      "(2, 2)\n",
      "(2, 1)\n",
      "(1, 3)\n",
      "(3,)\n"
     ]
    }
   ],
   "source": [
    "temp1 = np.array([[1,2], [3,4]])\n",
    "print(temp1.shape)\n",
    "\n",
    "temp2 = np.array([[1], [2]])\n",
    "print(temp2.shape)\n",
    "\n",
    "temp3 = np.array([[1,2,3]])\n",
    "print(temp3.shape)\n",
    "\n",
    "temp4 = np.array([1,2,3])\n",
    "print(temp4.shape)"
   ]
  },
  {
   "cell_type": "markdown",
   "id": "15b7e210",
   "metadata": {},
   "source": [
    "One can also use the Python `len()` function as shown below."
   ]
  },
  {
   "cell_type": "code",
   "execution_count": 7,
   "id": "a43c4eb4",
   "metadata": {},
   "outputs": [
    {
     "name": "stdout",
     "output_type": "stream",
     "text": [
      "Number of training examples is: 2\n"
     ]
    }
   ],
   "source": [
    "m = len(x_train)    # Number of training examples\n",
    "print(\"Number of training examples is: {}\".format(m))"
   ]
  },
  {
   "cell_type": "markdown",
   "id": "44e6b15f",
   "metadata": {},
   "source": [
    "### Training example `x_i, y_i`"
   ]
  },
  {
   "cell_type": "markdown",
   "id": "56d90dbc",
   "metadata": {},
   "source": [
    "You will use (x$^{(i)}$, y$^{(i)}$) to denote the $i^{th}$ training example. Since Python is zero indexed, (x$^{(0)}$, y$^{(0)}$) is ($1.0$, $300.0$) and (x$^{(1)}$, y$^{(1)}$) is ($2.0$, $500.0$). \n",
    "\n",
    "To access a value in a Numpy array, one indexes the array with the desired offset. For example the syntax to access location zero of `x_train` is `x_train[0]`.\n",
    "Run the next code block below to get the $i^{th}$ training example."
   ]
  },
  {
   "cell_type": "code",
   "execution_count": 8,
   "id": "e2b061f1",
   "metadata": {},
   "outputs": [
    {
     "name": "stdout",
     "output_type": "stream",
     "text": [
      "(x^(0), y^(0)) = (1.0, 300.0)\n"
     ]
    }
   ],
   "source": [
    "i = 0    # Change this to 1 to see (x^1, y^1)\n",
    "\n",
    "x_i = x_train[i]\n",
    "y_i = y_train[i]\n",
    "\n",
    "print(\"(x^({}), y^({})) = ({}, {})\".format(i, i, x_i, y_i))"
   ]
  },
  {
   "cell_type": "markdown",
   "id": "d5bd456e",
   "metadata": {},
   "source": [
    "### Plotting the data"
   ]
  },
  {
   "cell_type": "markdown",
   "id": "702f4b6e",
   "metadata": {},
   "source": [
    "You can plot these two points using the `scatter()` function in the `matplotlib` library, as shown in the cell below. \n",
    "- The function arguments `marker` and `c` show the points as red crosses (the default is blue dots).\n",
    "\n",
    "You can use other functions in the `matplotlib` library to set the title and labels to display"
   ]
  },
  {
   "cell_type": "code",
   "execution_count": 10,
   "id": "e5ca9c15",
   "metadata": {},
   "outputs": [
    {
     "data": {
      "image/png": "[encoded data removed]",
      "text/plain": [
       "<Figure size 432x288 with 1 Axes>"
      ]
     },
     "metadata": {
      "needs_background": "light"
     },
     "output_type": "display_data"
    }
   ],
   "source": [
    "plt.scatter(x_train, y_train, marker='x', c='r', label='Data Point')    # Plot the data points\n",
    "\n",
    "# Plot setting\n",
    "plt.title(\"Housing Prices\")    # Set the title\n",
    "plt.xlabel('Size (1000 sqft)')    # Set the x-axis label\n",
    "plt.ylabel('Price (in 1000s of dollars)')    # Set the y-axis label\n",
    "plt.legend(loc='best')\n",
    "\n",
    "plt.show()"
   ]
  },
  {
   "cell_type": "markdown",
   "id": "240a9519",
   "metadata": {},
   "source": [
    "## Model function"
   ]
  },
  {
   "cell_type": "markdown",
   "id": "e664efa6",
   "metadata": {},
   "source": [
    "The model function for linear regression (which is a function that maps from `x` to `y`) is represented as \n",
    "\n",
    "$$f_{w,b}(x^{(i)}) = wx^{(i)} + b \\tag{1}$$\n",
    "\n",
    "The formula above is how you can represent straight lines - different values of $w$ and $b$ give you different straight lines on the plot. <br/> <br/> <br/>\n",
    "\n",
    "Let's try to get a better intuition for this through the code blocks below. Let's start with $w = 100$ and $b = 100$. \n",
    "\n",
    "**Note: You can come back to this cell to adjust the model's w and b parameters**"
   ]
  },
  {
   "cell_type": "code",
   "execution_count": 11,
   "id": "4edd68c9",
   "metadata": {},
   "outputs": [
    {
     "name": "stdout",
     "output_type": "stream",
     "text": [
      "w: 100\n",
      "b: 100\n"
     ]
    }
   ],
   "source": [
    "w = 100\n",
    "b = 100\n",
    "\n",
    "print(\"w: {}\".format(w))\n",
    "print(\"b: {}\".format(b))"
   ]
  },
  {
   "cell_type": "markdown",
   "id": "3b1465e4",
   "metadata": {},
   "source": [
    "Now, let's compute the value of $f_{w,b}(x^{(i)})$ for your two data points. You can explicitly write this out for each data point as - \n",
    "\n",
    "for $x^{(0)}$: `f_wb = w * x[0] + b`\n",
    "\n",
    "for $x^{(1)}$: `f_wb = w * x[1] + b`\n",
    "\n",
    "For a large number of data points, this can get unwieldy and repetitive. So instead, you can calculate the function output in a `for` loop as shown in the `compute_model_output` function below.\n",
    "> **Note:** The argument description `(ndarray (m,))` describes a Numpy n-dimensional array of shape (m,). `(scalar)` describes an argument without dimensions, just a magnitude.  \n",
    "> **Note:** `np.zero(n)` will return a one-dimensional numpy array with $n$ entries   "
   ]
  },
  {
   "cell_type": "code",
   "execution_count": 12,
   "id": "26f2b6bf",
   "metadata": {},
   "outputs": [],
   "source": [
    "def compute_model_output(x, w, b):\n",
    "    \"\"\"\n",
    "    Computes the prediction of a linear model\n",
    "    Args:\n",
    "      x (ndarray (m,)): Data, m examples \n",
    "      w,b (scalar)    : model parameters  \n",
    "    Returns\n",
    "      y (ndarray (m,)): target values\n",
    "    \"\"\"\n",
    "    m = x.shape[0]\n",
    "    f_wb = np.zeros(m)\n",
    "    for i in range(m):\n",
    "        f_wb[i] = w * x[i] + b\n",
    "        \n",
    "    return f_wb"
   ]
  },
  {
   "cell_type": "markdown",
   "id": "2ce6d249",
   "metadata": {},
   "source": [
    ">**Note:** Expressions inside a function between three double quotes are called <u>docstring</u> (document string) and are used to write help for the function. You can learn more about docstrings [here](https://peps.python.org/pep-0257/#what-is-a-docstring)."
   ]
  },
  {
   "cell_type": "code",
   "execution_count": 14,
   "id": "d94f386c",
   "metadata": {},
   "outputs": [
    {
     "name": "stdout",
     "output_type": "stream",
     "text": [
      "Help on function compute_model_output in module __main__:\n",
      "\n",
      "compute_model_output(x, w, b)\n",
      "    Computes the prediction of a linear model\n",
      "    Args:\n",
      "      x (ndarray (m,)): Data, m examples \n",
      "      w,b (scalar)    : model parameters  \n",
      "    Returns\n",
      "      y (ndarray (m,)): target values\n",
      "\n"
     ]
    }
   ],
   "source": [
    "help(compute_model_output)"
   ]
  },
  {
   "cell_type": "markdown",
   "id": "4ca2cd18",
   "metadata": {},
   "source": [
    "Now let's call the `compute_model_output` function and plot the output."
   ]
  },
  {
   "cell_type": "code",
   "execution_count": 15,
   "id": "9d256d92",
   "metadata": {},
   "outputs": [
    {
     "data": {
      "image/png": "[encoded data removed]",
      "text/plain": [
       "<Figure size 432x288 with 1 Axes>"
      ]
     },
     "metadata": {
      "needs_background": "light"
     },
     "output_type": "display_data"
    }
   ],
   "source": [
    "tmp_f_wb = compute_model_output(x_train, w, b,)\n",
    "\n",
    "# Plot our model prediction\n",
    "plt.plot(x_train, tmp_f_wb, c='b',label='Our Prediction')\n",
    "\n",
    "# Plot the data points\n",
    "plt.scatter(x_train, y_train, marker='x', c='r',label='Actual Values')\n",
    "\n",
    "# Plot setting\n",
    "plt.title(\"Housing Prices\")    # Set the title\n",
    "plt.xlabel('Size (1000 sqft)')    # Set the x-axis label\n",
    "plt.ylabel('Price (in 1000s of dollars)')    # Set the y-axis label\n",
    "plt.legend()\n",
    "\n",
    "plt.show()"
   ]
  },
  {
   "cell_type": "markdown",
   "id": "5840b228",
   "metadata": {},
   "source": [
    "As you can see, setting $w = 100$ and $b = 100$ does *not* result in a line that fits our data. "
   ]
  },
  {
   "cell_type": "markdown",
   "id": "f1ad6a44",
   "metadata": {},
   "source": [
    "### Challenge\n",
    "Try experimenting with different values of $w$ and $b$. What should the values be for a line that fits our data?"
   ]
  },
  {
   "cell_type": "markdown",
   "id": "dc8d5004",
   "metadata": {},
   "source": [
    "<details>\n",
    "<summary>\n",
    "    <font size='3', color='darkgreen'><b>Answer</b></font>\n",
    "</summary>\n",
    "    <p>\n",
    "        \\begin{align}y - y_{0} &= \\frac{y_{1} - y_{0}}{x_{1} - x_{0}} (x - x_{0}) \\\\ \\\\\n",
    "        y - 300 &= \\frac{500 - 300}{2 - 1} (x - 1) \\\\ \\\\\n",
    "        y &= 200 x + 100 \\\\ \\\\\n",
    "        \\rightarrow &\\begin{cases} w = 200 \\\\\n",
    "        b = 100 \\end{cases} \\\\ \\\\ \\end{align}\n",
    "        Try $w = 200$ and $b = 100$\n",
    "    </p>"
   ]
  },
  {
   "cell_type": "markdown",
   "id": "50a5d478",
   "metadata": {},
   "source": [
    "### Prediction (It's your turn)"
   ]
  },
  {
   "cell_type": "markdown",
   "id": "b62d355e",
   "metadata": {},
   "source": [
    "Now that we have a model, we can use it to make our original prediction. You should predict the price of a house with $1200$ sqft. Since the units of $x$ are in $1000$'s of sqft, $x$ is $1.2$."
   ]
  },
  {
   "cell_type": "code",
   "execution_count": 16,
   "id": "86b23f34",
   "metadata": {},
   "outputs": [
    {
     "name": "stdout",
     "output_type": "stream",
     "text": [
      "340.0\n"
     ]
    }
   ],
   "source": [
    "# write your code\n",
    "w = 200\n",
    "b = 100\n",
    "x = 1.2\n",
    "print(w*x+b)"
   ]
  },
  {
   "cell_type": "markdown",
   "id": "1dc60e0d",
   "metadata": {},
   "source": [
    "In this notebook you have learned:\n",
    " - Linear regression builds a model which establishes a relationship between features and targets\n",
    "     - In the example above, the feature was house size and the target was house price\n",
    "     - for simple linear regression, the model has two parameters $w$ and $b$ whose values are 'fit' using *training data*.\n",
    "     - once a model's parameters have been determined, the model can be used to make predictions on novel data."
   ]
  },
  {
   "cell_type": "code",
   "execution_count": null,
   "id": "1066142c",
   "metadata": {},
   "outputs": [],
   "source": []
  }
 ],
 "metadata": {
  "kernelspec": {
   "display_name": "Python 3 (ipykernel)",
   "language": "python",
   "name": "python3"
  },
  "language_info": {
   "codemirror_mode": {
    "name": "ipython",
    "version": 3
   },
   "file_extension": ".py",
   "mimetype": "text/x-python",
   "name": "python",
   "nbconvert_exporter": "python",
   "pygments_lexer": "ipython3",
   "version": "3.9.12"
  }
 },
 "nbformat": 4,
 "nbformat_minor": 5
}
