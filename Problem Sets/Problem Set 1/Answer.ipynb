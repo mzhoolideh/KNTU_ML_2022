{
 "cells": [
  {
   "cell_type": "markdown",
   "id": "5e4433b4",
   "metadata": {},
   "source": [
    "# The number of divisors"
   ]
  },
  {
   "cell_type": "code",
   "execution_count": 1,
   "id": "d6f0f457",
   "metadata": {},
   "outputs": [],
   "source": [
    "# Function definition\n",
    "def divisors(n):\n",
    "    S = 1\n",
    "    for number in range(1, (n//2)+1):\n",
    "        if n % number == 0:\n",
    "            S += 1\n",
    "    return S"
   ]
  },
  {
   "cell_type": "code",
   "execution_count": 2,
   "id": "dd115f00",
   "metadata": {},
   "outputs": [
    {
     "name": "stdout",
     "output_type": "stream",
     "text": [
      "60\n",
      "92\n",
      "63\n",
      "10\n",
      "2\n",
      "96\n",
      "84\n",
      "99\n",
      "76\n",
      "50\n",
      "48\n",
      "4\n",
      "75\n",
      "6\n",
      "8\n",
      "72\n",
      "68\n",
      "52\n",
      "98\n",
      "90\n"
     ]
    }
   ],
   "source": [
    "# Taking input from the user and collecting numbers and the number of divisors\n",
    "numbers = []\n",
    "number_of_divisors = []\n",
    "for i in range(20):\n",
    "    x = int(input())\n",
    "    numbers.append(x)\n",
    "    number_of_divisors.append(divisors(x))"
   ]
  },
  {
   "cell_type": "code",
   "execution_count": 3,
   "id": "b58e95a6",
   "metadata": {},
   "outputs": [],
   "source": [
    "# Calculations\n",
    "largest_number = 0\n",
    "number_of_divisors_of_the_largest_number = 0\n",
    "for n, d in zip(numbers, number_of_divisors):\n",
    "    if d >= number_of_divisors_of_the_largest_number:\n",
    "        if n > largest_number:\n",
    "            number_of_divisors_of_the_largest_number = d\n",
    "            largest_number = n"
   ]
  },
  {
   "cell_type": "code",
   "execution_count": 4,
   "id": "7bd4e92f",
   "metadata": {},
   "outputs": [
    {
     "name": "stdout",
     "output_type": "stream",
     "text": [
      "The largest number is 96, with 12 divisors\n"
     ]
    }
   ],
   "source": [
    "# Print the result\n",
    "print('The largest number is {}, with {} divisors'.format(largest_number, number_of_divisors_of_the_largest_number))"
   ]
  },
  {
   "cell_type": "markdown",
   "id": "7f3fa010",
   "metadata": {},
   "source": [
    "# Age of the user"
   ]
  },
  {
   "cell_type": "code",
   "execution_count": 5,
   "id": "670527d0",
   "metadata": {},
   "outputs": [
    {
     "name": "stdout",
     "output_type": "stream",
     "text": [
      "Please enter your age: 75\n"
     ]
    }
   ],
   "source": [
    "# Taking input from the user\n",
    "Age = int(input(\"Please enter your age: \"))"
   ]
  },
  {
   "cell_type": "code",
   "execution_count": 6,
   "id": "9f1c2f6b",
   "metadata": {},
   "outputs": [
    {
     "name": "stdout",
     "output_type": "stream",
     "text": [
      "ALIVE\n"
     ]
    }
   ],
   "source": [
    "# Calculations and print the result\n",
    "if Age <= 0:\n",
    "    print(\"UNBORN\")\n",
    "elif 0 < Age <= 150:\n",
    "    print(\"ALIVE\")\n",
    "else:\n",
    "    print(\"VAMPIRE\")"
   ]
  },
  {
   "cell_type": "markdown",
   "id": "e7d68960",
   "metadata": {},
   "source": [
    "# Multiples of 3 or 5"
   ]
  },
  {
   "cell_type": "code",
   "execution_count": 7,
   "id": "812d32f8",
   "metadata": {},
   "outputs": [
    {
     "name": "stdout",
     "output_type": "stream",
     "text": [
      "Please enter a number: 16\n"
     ]
    }
   ],
   "source": [
    "# Taking input from the user\n",
    "n = int(input(\"Please enter a number: \"))"
   ]
  },
  {
   "cell_type": "code",
   "execution_count": 8,
   "id": "acc591c5",
   "metadata": {},
   "outputs": [],
   "source": [
    "# Calculations\n",
    "S = 0\n",
    "for number in range(n):\n",
    "    if number % 3 == 0 or number % 5 == 0:\n",
    "        S += number"
   ]
  },
  {
   "cell_type": "code",
   "execution_count": 9,
   "id": "8fcb45b4",
   "metadata": {},
   "outputs": [
    {
     "name": "stdout",
     "output_type": "stream",
     "text": [
      "60\n"
     ]
    }
   ],
   "source": [
    "# Print the result\n",
    "print(S)"
   ]
  }
 ],
 "metadata": {
  "kernelspec": {
   "display_name": "Python 3 (ipykernel)",
   "language": "python",
   "name": "python3"
  },
  "language_info": {
   "codemirror_mode": {
    "name": "ipython",
    "version": 3
   },
   "file_extension": ".py",
   "mimetype": "text/x-python",
   "name": "python",
   "nbconvert_exporter": "python",
   "pygments_lexer": "ipython3",
   "version": "3.9.12"
  }
 },
 "nbformat": 4,
 "nbformat_minor": 5
}
